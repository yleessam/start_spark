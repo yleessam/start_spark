{
 "cells": [
  {
   "cell_type": "code",
   "execution_count": 51,
   "id": "3ecf6a88-ec8c-4500-965e-6fc92bdd5485",
   "metadata": {},
   "outputs": [],
   "source": [
    "from pyspark.sql import SparkSession\n",
    "\n",
    "spark = SparkSession.builder \\\n",
    "    .appName(\"restaurant-review-average\") \\\n",
    "    .master(\"local[*]\") \\\n",
    "    .getOrCreate()"
   ]
  },
  {
   "cell_type": "code",
   "execution_count": 52,
   "id": "bdcec638-cf48-447e-9de2-51329a8a772f",
   "metadata": {},
   "outputs": [],
   "source": [
    "sc = spark.sparkContext  # 필요 시 RDD API를 위해 사용"
   ]
  },
  {
   "cell_type": "code",
   "execution_count": 53,
   "id": "bd25fce1-af9f-4799-89d6-e49e3c4d3d8f",
   "metadata": {},
   "outputs": [
    {
     "data": {
      "text/plain": [
       "2"
      ]
     },
     "execution_count": 53,
     "metadata": {},
     "output_type": "execute_result"
    }
   ],
   "source": [
    "sc.defaultParallelism"
   ]
  },
  {
   "cell_type": "code",
   "execution_count": 12,
   "id": "2430d775-821f-4743-8c02-0d8ce6ffc700",
   "metadata": {},
   "outputs": [],
   "source": [
    "sc.setLogLevel('INFO')"
   ]
  },
  {
   "cell_type": "code",
   "execution_count": 13,
   "id": "d4eb1326-3db7-42a2-a53d-0cb29258b68b",
   "metadata": {},
   "outputs": [
    {
     "data": {
      "text/plain": [
       "[('spark.app.name', 'restaurant-review-average'),\n",
       " ('spark.app.startTime', '1754262346129'),\n",
       " ('spark.executor.id', 'driver'),\n",
       " ('spark.driver.extraJavaOptions',\n",
       "  '-Djava.net.preferIPv6Addresses=false -XX:+IgnoreUnrecognizedVMOptions --add-opens=java.base/java.lang=ALL-UNNAMED --add-opens=java.base/java.lang.invoke=ALL-UNNAMED --add-opens=java.base/java.lang.reflect=ALL-UNNAMED --add-opens=java.base/java.io=ALL-UNNAMED --add-opens=java.base/java.net=ALL-UNNAMED --add-opens=java.base/java.nio=ALL-UNNAMED --add-opens=java.base/java.util=ALL-UNNAMED --add-opens=java.base/java.util.concurrent=ALL-UNNAMED --add-opens=java.base/java.util.concurrent.atomic=ALL-UNNAMED --add-opens=java.base/sun.nio.ch=ALL-UNNAMED --add-opens=java.base/sun.nio.cs=ALL-UNNAMED --add-opens=java.base/sun.security.action=ALL-UNNAMED --add-opens=java.base/sun.util.calendar=ALL-UNNAMED --add-opens=java.security.jgss/sun.security.krb5=ALL-UNNAMED -Djdk.reflect.useDirectMethodHandle=false'),\n",
       " ('spark.app.id', 'local-1754262346789'),\n",
       " ('spark.driver.host', 'd7f0347bc76a'),\n",
       " ('spark.rdd.compress', 'True'),\n",
       " ('spark.serializer.objectStreamReset', '100'),\n",
       " ('spark.master', 'local[*]'),\n",
       " ('spark.submit.pyFiles', ''),\n",
       " ('spark.submit.deployMode', 'client'),\n",
       " ('spark.sql.warehouse.dir', 'file:/home/jovyan/work/spark-warehouse'),\n",
       " ('spark.app.submitTime', '1754262346023'),\n",
       " ('spark.ui.showConsoleProgress', 'true'),\n",
       " ('spark.driver.port', '42561'),\n",
       " ('spark.executor.extraJavaOptions',\n",
       "  '-Djava.net.preferIPv6Addresses=false -XX:+IgnoreUnrecognizedVMOptions --add-opens=java.base/java.lang=ALL-UNNAMED --add-opens=java.base/java.lang.invoke=ALL-UNNAMED --add-opens=java.base/java.lang.reflect=ALL-UNNAMED --add-opens=java.base/java.io=ALL-UNNAMED --add-opens=java.base/java.net=ALL-UNNAMED --add-opens=java.base/java.nio=ALL-UNNAMED --add-opens=java.base/java.util=ALL-UNNAMED --add-opens=java.base/java.util.concurrent=ALL-UNNAMED --add-opens=java.base/java.util.concurrent.atomic=ALL-UNNAMED --add-opens=java.base/sun.nio.ch=ALL-UNNAMED --add-opens=java.base/sun.nio.cs=ALL-UNNAMED --add-opens=java.base/sun.security.action=ALL-UNNAMED --add-opens=java.base/sun.util.calendar=ALL-UNNAMED --add-opens=java.security.jgss/sun.security.krb5=ALL-UNNAMED -Djdk.reflect.useDirectMethodHandle=false')]"
      ]
     },
     "execution_count": 13,
     "metadata": {},
     "output_type": "execute_result"
    }
   ],
   "source": [
    "sc.getConf().getAll()"
   ]
  },
  {
   "cell_type": "code",
   "execution_count": null,
   "id": "4fc4264e-77ca-404c-b35b-4f82216d142b",
   "metadata": {},
   "outputs": [],
   "source": []
  },
  {
   "cell_type": "code",
   "execution_count": null,
   "id": "8bf1f8e3-1e68-4bcf-b10a-40b35efef4e3",
   "metadata": {},
   "outputs": [],
   "source": []
  },
  {
   "cell_type": "code",
   "execution_count": null,
   "id": "d13c6e1e-3f1d-493b-b1a1-e5d786c47afc",
   "metadata": {},
   "outputs": [],
   "source": []
  },
  {
   "cell_type": "code",
   "execution_count": 14,
   "id": "7aadd314-69b9-4209-91de-8b58eb37fa79",
   "metadata": {},
   "outputs": [],
   "source": [
    "data = [\n",
    "    (0, \"짜장면\", \"중식\", 125),\n",
    "    (1, \"짬뽕\", \"중식\", 235),\n",
    "    (2, \"김밥\", \"분식\", 32),\n",
    "    (3, \"떡볶이\", \"분식\", 534),\n",
    "    (4, \"라멘\", \"일식\", 223),\n",
    "    (5, \"돈가스\", \"일식\", 52),\n",
    "    (6, \"우동\", \"일식\", 12),\n",
    "    (7, \"쌀국수\", \"아시안\", 312),\n",
    "    (8, \"햄버거\", \"패스트푸드\", 12),\n",
    "    (9, \"치킨\", \"패스트푸드\", 23),\n",
    "]"
   ]
  },
  {
   "cell_type": "code",
   "execution_count": 15,
   "id": "6f40ceae-424e-41be-8d76-4028ab168dc6",
   "metadata": {},
   "outputs": [],
   "source": [
    "rdd1 = sc.parallelize(data)"
   ]
  },
  {
   "cell_type": "code",
   "execution_count": 16,
   "id": "23c34e3a-e59c-4298-958a-274ac0094f39",
   "metadata": {},
   "outputs": [
    {
     "data": {
      "text/plain": [
       "[(0, '짜장면', '중식', 125), (1, '짬뽕', '중식', 235), (2, '김밥', '분식', 32)]"
      ]
     },
     "execution_count": 16,
     "metadata": {},
     "output_type": "execute_result"
    }
   ],
   "source": [
    "rdd1.take(3)"
   ]
  },
  {
   "cell_type": "code",
   "execution_count": 54,
   "id": "5b1b2664-e392-4ce6-9adc-0bdf4cb6643c",
   "metadata": {},
   "outputs": [
    {
     "data": {
      "text/plain": [
       "['id,item,cateogry,reviews,',\n",
       " '0,짜장면,중식,125,',\n",
       " '1,짬뽕,중식,235,',\n",
       " '2,김밥,분식,32,',\n",
       " '3,떡볶이,분식,534,']"
      ]
     },
     "execution_count": 54,
     "metadata": {},
     "output_type": "execute_result"
    }
   ],
   "source": [
    "lines = sc.textFile(\"file:///home/jovyan/work/learning_spark_data/restaurant_reviews.csv\")\n",
    "\n",
    "lines.take(5)"
   ]
  },
  {
   "cell_type": "code",
   "execution_count": 55,
   "id": "97de8eaa-5080-4375-9692-bbef0b248ab5",
   "metadata": {},
   "outputs": [],
   "source": [
    "#총건수 확인\n",
    "# 첫줄, 데이터 분할\n",
    "header = lines.first()\n",
    "filtered_lines = lines.filter(lambda row:row!=header)\n",
    "# map으로 split"
   ]
  },
  {
   "cell_type": "code",
   "execution_count": null,
   "id": "0e53f7a7-76a9-4211-85fc-873205248e85",
   "metadata": {},
   "outputs": [],
   "source": []
  },
  {
   "cell_type": "code",
   "execution_count": 37,
   "id": "84d0b1c3-dc96-4781-8f28-aaf42a67ab8e",
   "metadata": {},
   "outputs": [
    {
     "data": {
      "text/plain": [
       "'http://d7f0347bc76a:4040'"
      ]
     },
     "execution_count": 37,
     "metadata": {},
     "output_type": "execute_result"
    }
   ],
   "source": [
    "sc.uiWebUrl"
   ]
  },
  {
   "cell_type": "code",
   "execution_count": 50,
   "id": "68709ad5-ad03-4d1d-b4a3-7129d964fd7f",
   "metadata": {},
   "outputs": [],
   "source": [
    "sc.stop()\n",
    "spark.stop()"
   ]
  },
  {
   "cell_type": "code",
   "execution_count": 56,
   "id": "c22f08ae-971b-4b89-a88e-368691801444",
   "metadata": {},
   "outputs": [],
   "source": [
    "def parse(row):\n",
    "    fields = row.split(\",\")\n",
    "    \n",
    "    category = fields[2] #카테고리\n",
    "    \n",
    "    # reviews는 정수로 parse\n",
    "    reviews = fields[3] # 리뷰수\n",
    "    reviews = int(reviews)\n",
    "    \n",
    "    return category, reviews"
   ]
  },
  {
   "cell_type": "code",
   "execution_count": 20,
   "id": "0ea4a69a-d5b3-47a5-8cb7-e1c1aa654b97",
   "metadata": {},
   "outputs": [
    {
     "data": {
      "text/plain": [
       "('중식', 125)"
      ]
     },
     "execution_count": 20,
     "metadata": {},
     "output_type": "execute_result"
    }
   ],
   "source": [
    "parse('0,짜장면,중식,125,')"
   ]
  },
  {
   "cell_type": "code",
   "execution_count": null,
   "id": "09950b70-cc44-48cb-ab81-2329047e2285",
   "metadata": {},
   "outputs": [],
   "source": []
  },
  {
   "cell_type": "code",
   "execution_count": 23,
   "id": "bb1e242d-5c46-4c3b-b45b-7195cb246f97",
   "metadata": {},
   "outputs": [
    {
     "data": {
      "text/plain": [
       "PythonRDD[9] at RDD at PythonRDD.scala:53"
      ]
     },
     "execution_count": 23,
     "metadata": {},
     "output_type": "execute_result"
    }
   ],
   "source": [
    "category_reviews = filtered_lines.map(parse)\n",
    "category_reviews"
   ]
  },
  {
   "cell_type": "code",
   "execution_count": 24,
   "id": "b3a45321-4b26-4808-9473-fa3e6c3a2d69",
   "metadata": {},
   "outputs": [
    {
     "data": {
      "text/plain": [
       "[('중식', 125),\n",
       " ('중식', 235),\n",
       " ('분식', 32),\n",
       " ('분식', 534),\n",
       " ('일식', 223),\n",
       " ('일식', 52),\n",
       " ('일식', 12),\n",
       " ('아시안', 312),\n",
       " ('패스트푸드', 12),\n",
       " ('패스트푸드', 23)]"
      ]
     },
     "execution_count": 24,
     "metadata": {},
     "output_type": "execute_result"
    }
   ],
   "source": [
    "category_reviews.collect()"
   ]
  },
  {
   "cell_type": "code",
   "execution_count": 25,
   "id": "444a111b-03a3-4972-bcf4-8ef4c6a42340",
   "metadata": {},
   "outputs": [
    {
     "data": {
      "text/plain": [
       "[('중식', (125, 1)),\n",
       " ('중식', (235, 1)),\n",
       " ('분식', (32, 1)),\n",
       " ('분식', (534, 1)),\n",
       " ('일식', (223, 1)),\n",
       " ('일식', (52, 1)),\n",
       " ('일식', (12, 1)),\n",
       " ('아시안', (312, 1)),\n",
       " ('패스트푸드', (12, 1)),\n",
       " ('패스트푸드', (23, 1))]"
      ]
     },
     "execution_count": 25,
     "metadata": {},
     "output_type": "execute_result"
    }
   ],
   "source": [
    "category_review_count = category_reviews.mapValues(lambda x : (x, 1)) # x는 review 개수\n",
    "category_review_count.collect()"
   ]
  },
  {
   "cell_type": "code",
   "execution_count": 26,
   "id": "331606c7-ef5e-488f-b08b-c8b29d22a730",
   "metadata": {},
   "outputs": [
    {
     "data": {
      "text/plain": [
       "[('중식', (360, 2)),\n",
       " ('분식', (566, 2)),\n",
       " ('일식', (287, 3)),\n",
       " ('아시안', (312, 1)),\n",
       " ('패스트푸드', (35, 2))]"
      ]
     },
     "execution_count": 26,
     "metadata": {},
     "output_type": "execute_result"
    }
   ],
   "source": [
    "#같은 key(카테고리)끼리 x와 y의 (리뷰 수 합계, 개수 합계)를 누적\n",
    "#첫번째 중식 x, 두번째 중식 y , [0] 은 리뷰수, [1] 은 개수 -> 같은 키끼리 행을 바꿔가며 계속 누적해 나간다.\n",
    "reduced = category_review_count.reduceByKey(lambda x, y : (x[0] + y[0], x[1] + y[1]))\n",
    "reduced.collect()"
   ]
  },
  {
   "cell_type": "code",
   "execution_count": 27,
   "id": "27c25d95-d93c-403c-a103-8c0807e6942c",
   "metadata": {},
   "outputs": [
    {
     "data": {
      "text/plain": [
       "[('중식', 180.0),\n",
       " ('분식', 283.0),\n",
       " ('일식', 95.66666666666667),\n",
       " ('아시안', 312.0),\n",
       " ('패스트푸드', 17.5)]"
      ]
     },
     "execution_count": 27,
     "metadata": {},
     "output_type": "execute_result"
    }
   ],
   "source": [
    "average = reduced.mapValues(lambda x : x[0] / x[1])\n",
    "average.collect()"
   ]
  },
  {
   "cell_type": "markdown",
   "id": "e534e5f7-2e4a-4d76-a41f-2eb63ac22e51",
   "metadata": {},
   "source": [
    "map(key, value) -> key, value 전체에 적용\n",
    "mapValues(key, value) -> value에만 적용"
   ]
  },
  {
   "cell_type": "code",
   "execution_count": null,
   "id": "7efe1084-f9fe-458b-b436-4d8afe57ddd2",
   "metadata": {},
   "outputs": [],
   "source": []
  },
  {
   "cell_type": "code",
   "execution_count": null,
   "id": "2ccef296-8fcc-41e7-af86-8cd5df8aba90",
   "metadata": {},
   "outputs": [],
   "source": []
  },
  {
   "cell_type": "code",
   "execution_count": null,
   "id": "6ba9a3e9-8fd8-4881-bfd9-422089f13f6e",
   "metadata": {},
   "outputs": [],
   "source": [
    "# Persist 를 사용하지 않을 때\n"
   ]
  },
  {
   "cell_type": "code",
   "execution_count": 57,
   "id": "b9e10011-f2c6-4a68-a525-7bfed90b845a",
   "metadata": {},
   "outputs": [
    {
     "data": {
      "text/plain": [
       "['0,짜장면,중식,125,',\n",
       " '1,짬뽕,중식,235,',\n",
       " '2,김밥,분식,32,',\n",
       " '3,떡볶이,분식,534,',\n",
       " '4,라멘,일식,223,',\n",
       " '5,돈가스,일식,52,',\n",
       " '6,우동,일식,12,',\n",
       " '7,쌀국수,아시안,312,',\n",
       " '8,햄버거,패스트푸드,12,',\n",
       " '9,치킨,패스트푸드,23']"
      ]
     },
     "execution_count": 57,
     "metadata": {},
     "output_type": "execute_result"
    }
   ],
   "source": [
    "# header = lines.first()\n",
    "# filtered_lines = lines.filter(lambda row : row != header)\n",
    "filtered_lines.collect()"
   ]
  },
  {
   "cell_type": "code",
   "execution_count": 58,
   "id": "fdf5160f-f44d-45b2-a9d1-5e08def4b857",
   "metadata": {},
   "outputs": [
    {
     "data": {
      "text/plain": [
       "[('중식', 125),\n",
       " ('중식', 235),\n",
       " ('분식', 32),\n",
       " ('분식', 534),\n",
       " ('일식', 223),\n",
       " ('일식', 52),\n",
       " ('일식', 12),\n",
       " ('아시안', 312),\n",
       " ('패스트푸드', 12),\n",
       " ('패스트푸드', 23)]"
      ]
     },
     "execution_count": 58,
     "metadata": {},
     "output_type": "execute_result"
    }
   ],
   "source": [
    "# transformations를 수행할 RDD 생성\n",
    "categoryReviews = filtered_lines.map(parse)\n",
    "categoryReviews.collect()"
   ]
  },
  {
   "cell_type": "code",
   "execution_count": 40,
   "id": "fe538e03-88a0-492d-8ea0-c0a67383220a",
   "metadata": {},
   "outputs": [],
   "source": [
    "result1 = categoryReviews.take(10) # action을 곧바로 실행"
   ]
  },
  {
   "cell_type": "code",
   "execution_count": 41,
   "id": "05fac64c-1840-48e2-ad23-d2f6a9967c8b",
   "metadata": {},
   "outputs": [],
   "source": [
    "result2 = categoryReviews.mapValues(lambda x : (x, 1)).collect()"
   ]
  },
  {
   "cell_type": "code",
   "execution_count": null,
   "id": "77444937-07be-42de-b7a1-969c7959cfc8",
   "metadata": {},
   "outputs": [],
   "source": []
  },
  {
   "cell_type": "code",
   "execution_count": null,
   "id": "6a1b5dcc-4b34-477f-944a-ba7e839554e0",
   "metadata": {},
   "outputs": [],
   "source": [
    "# persist를 사용하는 경우"
   ]
  },
  {
   "cell_type": "code",
   "execution_count": null,
   "id": "fe35848f-3fe6-49e0-8818-30685cb50c58",
   "metadata": {},
   "outputs": [],
   "source": []
  },
  {
   "cell_type": "code",
   "execution_count": 59,
   "id": "53abd3a5-753c-4039-ab37-225fa8be4874",
   "metadata": {},
   "outputs": [
    {
     "data": {
      "text/plain": [
       "PythonRDD[6] at RDD at PythonRDD.scala:53"
      ]
     },
     "execution_count": 59,
     "metadata": {},
     "output_type": "execute_result"
    }
   ],
   "source": [
    "#job x\n",
    "categoryReviews = filtered_lines.map(parse).persist() # categoryReviews RDD는 하나만 존재하는 RDD\n",
    "categoryReviews"
   ]
  },
  {
   "cell_type": "code",
   "execution_count": 60,
   "id": "cef489bf-9e65-4365-b7f3-30d4e62b7f30",
   "metadata": {},
   "outputs": [
    {
     "data": {
      "text/plain": [
       "[('중식', 125),\n",
       " ('중식', 235),\n",
       " ('분식', 32),\n",
       " ('분식', 534),\n",
       " ('일식', 223),\n",
       " ('일식', 52),\n",
       " ('일식', 12),\n",
       " ('아시안', 312),\n",
       " ('패스트푸드', 12),\n",
       " ('패스트푸드', 23)]"
      ]
     },
     "execution_count": 60,
     "metadata": {},
     "output_type": "execute_result"
    }
   ],
   "source": [
    "result3 = categoryReviews.take(10)\n",
    "result3"
   ]
  },
  {
   "cell_type": "code",
   "execution_count": 61,
   "id": "36540942-0c5c-49c7-89f6-794b0c1f7d42",
   "metadata": {},
   "outputs": [
    {
     "data": {
      "text/plain": [
       "[('중식', (125, 1)),\n",
       " ('중식', (235, 1)),\n",
       " ('분식', (32, 1)),\n",
       " ('분식', (534, 1)),\n",
       " ('일식', (223, 1)),\n",
       " ('일식', (52, 1)),\n",
       " ('일식', (12, 1)),\n",
       " ('아시안', (312, 1)),\n",
       " ('패스트푸드', (12, 1)),\n",
       " ('패스트푸드', (23, 1))]"
      ]
     },
     "execution_count": 61,
     "metadata": {},
     "output_type": "execute_result"
    }
   ],
   "source": [
    "result4 = categoryReviews.mapValues(lambda x : (x, 1)).collect()\n",
    "result4"
   ]
  },
  {
   "cell_type": "code",
   "execution_count": 62,
   "id": "5bdbb631-6621-45b1-9621-f8a542c4567d",
   "metadata": {},
   "outputs": [
    {
     "data": {
      "text/plain": [
       "[('중식', 360), ('분식', 566), ('일식', 287), ('아시안', 312), ('패스트푸드', 35)]"
      ]
     },
     "execution_count": 62,
     "metadata": {},
     "output_type": "execute_result"
    }
   ],
   "source": [
    "# 카테고리별 값1 합계 계산 (첫 번째 연산)\n",
    "result_sum = categoryReviews \\\n",
    "    .reduceByKey(lambda a, b: a + b) \\\n",
    "    .collect()\n",
    "result_sum"
   ]
  },
  {
   "cell_type": "code",
   "execution_count": 46,
   "id": "f5ad0dd3-4fa8-429c-a7c4-2e647da50d00",
   "metadata": {},
   "outputs": [
    {
     "data": {
      "text/plain": [
       "[('중식', (125, 1)), ('중식', (235, 1)), ('분식', (32, 1))]"
      ]
     },
     "execution_count": 46,
     "metadata": {},
     "output_type": "execute_result"
    }
   ],
   "source": [
    "# (카테고리, (점수, 1)) 형태로 변환\n",
    "rdd_with_count = categoryReviews.map(lambda x: (x[0], (x[1], 1)))\n",
    "rdd_with_count.take(3)"
   ]
  },
  {
   "cell_type": "code",
   "execution_count": 49,
   "id": "5119ed4d-5dd5-4545-9bbd-f437168ccf2f",
   "metadata": {},
   "outputs": [
    {
     "data": {
      "text/plain": [
       "[('중식', (360, 2)), ('분식', (566, 2)), ('일식', (287, 3))]"
      ]
     },
     "execution_count": 49,
     "metadata": {},
     "output_type": "execute_result"
    }
   ],
   "source": [
    "# reduceByKey로 (점수 총합, 개수 총합) 집계\n",
    "rdd_sums = rdd_with_count.reduceByKey(lambda a, b: (a[0] + b[0], a[1] + b[1]))\n",
    "rdd_sums.take(3)"
   ]
  },
  {
   "cell_type": "code",
   "execution_count": 48,
   "id": "f4619b3e-9c91-4278-9660-9b8b78a41ca3",
   "metadata": {},
   "outputs": [
    {
     "data": {
      "text/plain": [
       "[('중식', 180.0), ('분식', 283.0), ('일식', 95.67), ('아시안', 312.0), ('패스트푸드', 17.5)]"
      ]
     },
     "execution_count": 48,
     "metadata": {},
     "output_type": "execute_result"
    }
   ],
   "source": [
    "# 평균 계산\n",
    "rdd_avg = rdd_sums.mapValues(lambda x: round(x[0] / x[1], 2))\n",
    "\n",
    "# 결과 출력\n",
    "rdd_avg.collect()\n"
   ]
  },
  {
   "cell_type": "code",
   "execution_count": 63,
   "id": "d5fc1ada-3321-426b-a35c-9b6594968dd8",
   "metadata": {},
   "outputs": [
    {
     "data": {
      "text/plain": [
       "PythonRDD[6] at RDD at PythonRDD.scala:53"
      ]
     },
     "execution_count": 63,
     "metadata": {},
     "output_type": "execute_result"
    }
   ],
   "source": [
    "# 기존 저장 레벨 해제\n",
    "categoryReviews.unpersist()"
   ]
  },
  {
   "cell_type": "code",
   "execution_count": 64,
   "id": "196b6a17-e182-42ca-a3b9-27ceb483a0ab",
   "metadata": {},
   "outputs": [
    {
     "data": {
      "text/plain": [
       "PythonRDD[6] at RDD at PythonRDD.scala:53"
      ]
     },
     "execution_count": 64,
     "metadata": {},
     "output_type": "execute_result"
    }
   ],
   "source": [
    "from pyspark import StorageLevel\n",
    "categoryReviews.persist(StorageLevel.MEMORY_AND_DISK)"
   ]
  },
  {
   "cell_type": "code",
   "execution_count": null,
   "id": "422f86ad-78f8-43f0-8309-c56bd627e205",
   "metadata": {},
   "outputs": [],
   "source": [
    "# 구조 확인하기\n",
    "categoryReviews.take(3)"
   ]
  },
  {
   "cell_type": "code",
   "execution_count": null,
   "id": "68d9ffc3-f402-4e6b-8ad0-bb5d1d33696f",
   "metadata": {},
   "outputs": [],
   "source": [
    "result11 = categoryReviews.filter(lambda x: x[1] > 100).count()\n",
    "result12 = categoryReviews.filter(lambda x: x[1] <= 100).count()"
   ]
  },
  {
   "cell_type": "code",
   "execution_count": null,
   "id": "5179523e-3885-4dd0-9ddf-cfcf2c9788b6",
   "metadata": {},
   "outputs": [],
   "source": []
  },
  {
   "cell_type": "code",
   "execution_count": null,
   "id": "e6ad0b96-2953-4113-9ea5-7cdbc5aae988",
   "metadata": {},
   "outputs": [],
   "source": []
  },
  {
   "cell_type": "code",
   "execution_count": null,
   "id": "ee223a14-ca99-4d6d-ad59-31b152f28f16",
   "metadata": {},
   "outputs": [],
   "source": []
  },
  {
   "cell_type": "code",
   "execution_count": null,
   "id": "255c9147-a785-464f-8202-e62c37feb53c",
   "metadata": {},
   "outputs": [],
   "source": []
  },
  {
   "cell_type": "code",
   "execution_count": null,
   "id": "247a42c6-ef8b-44ff-9b5e-a465571bc1ea",
   "metadata": {},
   "outputs": [],
   "source": [
    "# Narrow Transformations\n",
    "1:1 변환 -> 하나의 열을 다룰 때 다른 데이터가 필요 없는 경우\n",
    "filter(), map(), flatMap(), sample(), union()\n",
    "\n",
    "# wide transformations"
   ]
  },
  {
   "cell_type": "markdown",
   "id": "e28cf257-a601-44c4-9f8c-ffc5e683ce39",
   "metadata": {},
   "source": [
    "# flatMap()\n"
   ]
  },
  {
   "cell_type": "code",
   "execution_count": 65,
   "id": "a16a48a3-1701-4783-bbfb-ef140fba5a98",
   "metadata": {},
   "outputs": [
    {
     "data": {
      "text/plain": [
       "[[1, 2], [2, 3], [3, 4]]"
      ]
     },
     "execution_count": 65,
     "metadata": {},
     "output_type": "execute_result"
    }
   ],
   "source": [
    "rdd = sc.parallelize([1, 2, 3])\n",
    "rdd_map = rdd.map(lambda x: [x, x + 1])  # => [[1, 2], [2, 3], [3, 4]]\n",
    "rdd_map.collect()"
   ]
  },
  {
   "cell_type": "code",
   "execution_count": 66,
   "id": "fe304180-3613-4122-a7ba-5f3d1629366e",
   "metadata": {},
   "outputs": [
    {
     "data": {
      "text/plain": [
       "[1, 2, 2, 3, 3, 4]"
      ]
     },
     "execution_count": 66,
     "metadata": {},
     "output_type": "execute_result"
    }
   ],
   "source": [
    "rdd_flatmap = rdd.flatMap(lambda x: [x, x + 1])  # => [1, 2, 2, 3, 3, 4]\n",
    "rdd_flatmap.collect()"
   ]
  },
  {
   "cell_type": "code",
   "execution_count": null,
   "id": "e01dee87-6aa1-4c49-9c58-290121e3677d",
   "metadata": {},
   "outputs": [],
   "source": [
    "# 텍스트를 단어로 쪼개서 flatMap()"
   ]
  },
  {
   "cell_type": "code",
   "execution_count": 67,
   "id": "1c4167de-882a-44ce-aebe-c04047ae779a",
   "metadata": {},
   "outputs": [],
   "source": [
    "movies = [\n",
    "    \"그린 북\",\n",
    "    \"매트릭스\",\n",
    "    \"토이 스토리\",\n",
    "    \"캐스트 어웨이\",\n",
    "    \"포드 V 페라리\",\n",
    "    \"보헤미안 랩소디\",\n",
    "    \"빽 투 더 퓨처\",\n",
    "    \"반지의 제왕\",\n",
    "    \"죽은 시인의 사회\"\n",
    "]"
   ]
  },
  {
   "cell_type": "code",
   "execution_count": 68,
   "id": "89ff42ce-863e-4470-91e8-bb8929069cc4",
   "metadata": {},
   "outputs": [
    {
     "data": {
      "text/plain": [
       "ParallelCollectionRDD[18] at readRDDFromFile at PythonRDD.scala:289"
      ]
     },
     "execution_count": 68,
     "metadata": {},
     "output_type": "execute_result"
    }
   ],
   "source": [
    "moviesRDD = sc.parallelize(movies)\n",
    "moviesRDD"
   ]
  },
  {
   "cell_type": "code",
   "execution_count": 69,
   "id": "bcf44c11-1dbb-40b2-be4c-cdd6062ed618",
   "metadata": {},
   "outputs": [
    {
     "data": {
      "text/plain": [
       "['그린',\n",
       " '북',\n",
       " '매트릭스',\n",
       " '토이',\n",
       " '스토리',\n",
       " '캐스트',\n",
       " '어웨이',\n",
       " '포드',\n",
       " 'V',\n",
       " '페라리',\n",
       " '보헤미안',\n",
       " '랩소디',\n",
       " '빽',\n",
       " '투',\n",
       " '더',\n",
       " '퓨처',\n",
       " '반지의',\n",
       " '제왕',\n",
       " '죽은',\n",
       " '시인의',\n",
       " '사회']"
      ]
     },
     "execution_count": 69,
     "metadata": {},
     "output_type": "execute_result"
    }
   ],
   "source": [
    "#job 추가 x\n",
    "flatMovies = moviesRDD.flatMap(lambda x : x.split(\" \"))\n",
    "flatMovies.collect()"
   ]
  },
  {
   "cell_type": "code",
   "execution_count": null,
   "id": "60cff5dc-ff19-4736-82c0-0be9fc1f019c",
   "metadata": {},
   "outputs": [],
   "source": []
  },
  {
   "cell_type": "code",
   "execution_count": null,
   "id": "38a3ba7b-05b3-45f2-903d-323fd5262e27",
   "metadata": {},
   "outputs": [],
   "source": [
    "# 집합 Transformation"
   ]
  },
  {
   "cell_type": "code",
   "execution_count": 70,
   "id": "994f7ae7-3482-4f85-bade-763a9ce2b4f8",
   "metadata": {},
   "outputs": [],
   "source": [
    "num1 = sc.parallelize([1, 2, 3, 4, 5])\n",
    "num2 = sc.parallelize([4, 5, 6, 7, 8, 9, 10])"
   ]
  },
  {
   "cell_type": "code",
   "execution_count": 71,
   "id": "a9828823-250a-4708-b0b6-d266ca93ce08",
   "metadata": {},
   "outputs": [
    {
     "data": {
      "text/plain": [
       "[4, 5]"
      ]
     },
     "execution_count": 71,
     "metadata": {},
     "output_type": "execute_result"
    }
   ],
   "source": [
    "num1.intersection(num2).collect()"
   ]
  },
  {
   "cell_type": "code",
   "execution_count": null,
   "id": "593ec240-f739-411e-91e4-207b3d9cea9f",
   "metadata": {},
   "outputs": [],
   "source": [
    "# 합집합 구하기 - union"
   ]
  },
  {
   "cell_type": "code",
   "execution_count": 72,
   "id": "5bab163c-e2bd-4927-9680-76e6b6460d8e",
   "metadata": {},
   "outputs": [
    {
     "data": {
      "text/plain": [
       "UnionRDD[32] at union at NativeMethodAccessorImpl.java:0"
      ]
     },
     "execution_count": 72,
     "metadata": {},
     "output_type": "execute_result"
    }
   ],
   "source": [
    "num_union = num1.union(num2)\n",
    "num_union"
   ]
  },
  {
   "cell_type": "code",
   "execution_count": 73,
   "id": "8db78964-6405-4ae6-ad9b-bf1ec0273b2f",
   "metadata": {},
   "outputs": [
    {
     "data": {
      "text/plain": [
       "[1, 2, 3, 4, 5, 4, 5, 6, 7, 8, 9, 10]"
      ]
     },
     "execution_count": 73,
     "metadata": {},
     "output_type": "execute_result"
    }
   ],
   "source": [
    "num_union.collect()"
   ]
  },
  {
   "cell_type": "code",
   "execution_count": null,
   "id": "dec5a3f8-6cb3-4834-8f7c-cffc9455e0f3",
   "metadata": {},
   "outputs": [],
   "source": [
    "# 차집합 구하기 - subtract"
   ]
  },
  {
   "cell_type": "code",
   "execution_count": 74,
   "id": "cb4b283c-4fef-4fe1-9a30-2a87ae52d770",
   "metadata": {},
   "outputs": [
    {
     "data": {
      "text/plain": [
       "[1, 2, 3]"
      ]
     },
     "execution_count": 74,
     "metadata": {},
     "output_type": "execute_result"
    }
   ],
   "source": [
    "num1.subtract(num2).collect()"
   ]
  },
  {
   "cell_type": "code",
   "execution_count": null,
   "id": "3488e317-5cef-46b0-9d76-2a33362d1190",
   "metadata": {},
   "outputs": [],
   "source": []
  },
  {
   "cell_type": "code",
   "execution_count": null,
   "id": "a62fb86e-d28d-4903-adce-6fc953e20ea0",
   "metadata": {},
   "outputs": [],
   "source": [
    "# 데이터 랜덤 추출 - sample(withReplacement, fraction, seed=None)\n"
   ]
  },
  {
   "cell_type": "code",
   "execution_count": null,
   "id": "b7682879-19e7-48de-bdfc-9db30c4d203b",
   "metadata": {},
   "outputs": [],
   "source": [
    "# withReplacement : True -> 중복 추출\n",
    "numUnion.sample(True, 0.3).collect()"
   ]
  },
  {
   "cell_type": "code",
   "execution_count": null,
   "id": "6e6301a5-4deb-401b-b8f4-3755ff489693",
   "metadata": {},
   "outputs": [],
   "source": [
    "# withReplacement : False -> 중복 X\n",
    "numUnion.sample(False, 0.7).collect()"
   ]
  },
  {
   "cell_type": "code",
   "execution_count": null,
   "id": "0ede7acd-ed59-42e2-91c2-5eecf6edcac1",
   "metadata": {},
   "outputs": [],
   "source": [
    "# 랜덤을 고정해서 항상 같은 결과가 나올 수 있도록\n",
    "numUnion.sample(True, 0.5, seed=42).collect()"
   ]
  },
  {
   "cell_type": "code",
   "execution_count": null,
   "id": "8562ca6b-0c66-48d3-a7ee-d713d7776175",
   "metadata": {},
   "outputs": [],
   "source": []
  },
  {
   "cell_type": "code",
   "execution_count": null,
   "id": "42481c05-4d70-4b25-84d3-86e743849705",
   "metadata": {},
   "outputs": [],
   "source": [
    "# Wide Transformations"
   ]
  },
  {
   "cell_type": "code",
   "execution_count": 75,
   "id": "7c0b5fd9-3edc-4d50-86f9-e90aa711274c",
   "metadata": {},
   "outputs": [
    {
     "data": {
      "text/plain": [
       "ParallelCollectionRDD[41] at readRDDFromFile at PythonRDD.scala:289"
      ]
     },
     "execution_count": 75,
     "metadata": {},
     "output_type": "execute_result"
    }
   ],
   "source": [
    "foods = sc.parallelize([\n",
    "    \"짜장면\", \"마라탕\", \"짬뽕\", \"떡볶이\", \"쌀국수\", \"짬뽕\", \"짜장면\", \"짜장면\", \"짜장면\", \"라면\", \"우동\", \"라면\"\n",
    "])\n",
    "foods"
   ]
  },
  {
   "cell_type": "code",
   "execution_count": 76,
   "id": "c20573e7-cc41-4440-96bc-b7862d9d5237",
   "metadata": {},
   "outputs": [
    {
     "data": {
      "text/plain": [
       "PythonRDD[46] at RDD at PythonRDD.scala:53"
      ]
     },
     "execution_count": 76,
     "metadata": {},
     "output_type": "execute_result"
    }
   ],
   "source": [
    "# 그룹핑의 기준을 문자열의 첫 번째 글자로 설정\n",
    "foodsGroup = foods.groupBy(lambda x : x[0])\n",
    "foodsGroup"
   ]
  },
  {
   "cell_type": "code",
   "execution_count": 80,
   "id": "81532c5c-2319-49aa-acd2-5b23ed553fdf",
   "metadata": {},
   "outputs": [],
   "source": [
    "res = foodsGroup.collect()"
   ]
  },
  {
   "cell_type": "code",
   "execution_count": 81,
   "id": "14514993-2a0c-434d-a645-ec1c3431c821",
   "metadata": {
    "scrolled": true
   },
   "outputs": [
    {
     "name": "stdout",
     "output_type": "stream",
     "text": [
      "짜 ['짜장면', '짜장면', '짜장면', '짜장면']\n",
      "짬 ['짬뽕', '짬뽕']\n",
      "쌀 ['쌀국수']\n",
      "라 ['라면', '라면']\n",
      "우 ['우동']\n",
      "마 ['마라탕']\n",
      "떡 ['떡볶이']\n"
     ]
    }
   ],
   "source": [
    "for (k, v) in res:\n",
    "    print(k, list(v))"
   ]
  },
  {
   "cell_type": "code",
   "execution_count": null,
   "id": "a62560e6-6366-4ad2-9180-5af9ba14e124",
   "metadata": {},
   "outputs": [],
   "source": [
    "# 내로우 narrow  트랜스포메이션"
   ]
  },
  {
   "cell_type": "code",
   "execution_count": 83,
   "id": "aa239165-1261-45d4-be6b-a5e0a06947d8",
   "metadata": {},
   "outputs": [
    {
     "data": {
      "text/plain": [
       "[1, 2, 4]"
      ]
     },
     "execution_count": 83,
     "metadata": {},
     "output_type": "execute_result"
    }
   ],
   "source": [
    "### 2. Narrow 트랜스포메이션 예제\n",
    "numbers = sc.parallelize([1, 2, 3, 4, 5])\n",
    "\n",
    "# 1:1 변환 (Narrow Transformation)\n",
    "sample_rdd = numbers.sample(False, 0.5)\n",
    "sample_rdd.take(3)"
   ]
  },
  {
   "cell_type": "code",
   "execution_count": 85,
   "id": "bc0bca46-ce9d-48fa-89fe-c353e9b57a70",
   "metadata": {},
   "outputs": [
    {
     "data": {
      "text/plain": [
       "[1, 2, 3, 4, 5, 6, 7, 8]"
      ]
     },
     "execution_count": 85,
     "metadata": {},
     "output_type": "execute_result"
    }
   ],
   "source": [
    "union_rdd = numbers.union(sc.parallelize([6,7,8]))\n",
    "union_rdd.collect()"
   ]
  },
  {
   "cell_type": "code",
   "execution_count": null,
   "id": "721aef2e-54d6-41fc-9646-d8fe65397a7e",
   "metadata": {},
   "outputs": [],
   "source": []
  },
  {
   "cell_type": "code",
   "execution_count": 86,
   "id": "4a7877e0-3351-44bb-98a9-bd1adc2c5fc3",
   "metadata": {},
   "outputs": [],
   "source": [
    "#wide 연산\n",
    "kv_rdd = sc.parallelize([(\"apple\", 1), (\"banana\", 2), (\"cherry\", 3)])"
   ]
  },
  {
   "cell_type": "code",
   "execution_count": 88,
   "id": "2cdcf081-c1ef-45b0-942f-2353cf7ae5a6",
   "metadata": {},
   "outputs": [
    {
     "data": {
      "text/plain": [
       "[('apple', 10), ('banana', 20), ('cherry', 30)]"
      ]
     },
     "execution_count": 88,
     "metadata": {},
     "output_type": "execute_result"
    }
   ],
   "source": [
    "mapp_values = kv_rdd.mapValues(lambda x: x*10)\n",
    "mapp_values.collect()"
   ]
  },
  {
   "cell_type": "code",
   "execution_count": 89,
   "id": "233260ed-2366-4074-b6bb-b0f35690f4be",
   "metadata": {},
   "outputs": [
    {
     "data": {
      "text/plain": [
       "[('apple', <pyspark.resultiterable.ResultIterable at 0x7f43d2247210>),\n",
       " ('banana', <pyspark.resultiterable.ResultIterable at 0x7f43d2065490>),\n",
       " ('cherry', <pyspark.resultiterable.ResultIterable at 0x7f43d2245450>)]"
      ]
     },
     "execution_count": 89,
     "metadata": {},
     "output_type": "execute_result"
    }
   ],
   "source": [
    "#wide 연산\n",
    "grouped_rdd = kv_rdd.groupByKey()\n",
    "grouped_rdd.collect()"
   ]
  },
  {
   "cell_type": "code",
   "execution_count": 91,
   "id": "3b1f976e-1cee-490b-a5dd-9d714937852c",
   "metadata": {},
   "outputs": [
    {
     "data": {
      "text/plain": [
       "[('apple', 1), ('banana', 2), ('cherry', 3)]"
      ]
     },
     "execution_count": 91,
     "metadata": {},
     "output_type": "execute_result"
    }
   ],
   "source": [
    "reduced_rdd = kv_rdd.reduceByKey(lambda x,y: x+y)\n",
    "reduced_rdd.collect()"
   ]
  },
  {
   "cell_type": "code",
   "execution_count": null,
   "id": "4c39ee91-26e5-4311-80c5-55c332566633",
   "metadata": {},
   "outputs": [],
   "source": []
  },
  {
   "cell_type": "code",
   "execution_count": null,
   "id": "66ed1bbe-c6c3-4990-8a3c-5d5b2465ee2e",
   "metadata": {},
   "outputs": [],
   "source": [
    "# 조인 연산"
   ]
  },
  {
   "cell_type": "code",
   "execution_count": null,
   "id": "a15bba4b-9f10-42ce-9f77-c07239deca5e",
   "metadata": {},
   "outputs": [],
   "source": []
  },
  {
   "cell_type": "code",
   "execution_count": null,
   "id": "c46a7f18-eba3-4707-96ec-ee3277813a29",
   "metadata": {},
   "outputs": [],
   "source": []
  },
  {
   "cell_type": "code",
   "execution_count": null,
   "id": "efface97-81c2-4f6c-8c0e-53eb33c332e3",
   "metadata": {},
   "outputs": [],
   "source": []
  },
  {
   "cell_type": "code",
   "execution_count": null,
   "id": "afce1262-82cb-4299-abf3-f3b8ebb31b17",
   "metadata": {},
   "outputs": [],
   "source": []
  },
  {
   "cell_type": "code",
   "execution_count": null,
   "id": "7791001c-0934-4c30-aeb0-e1edf7346fa0",
   "metadata": {},
   "outputs": [],
   "source": [
    "# 5. aggregate 함수 사용 예제"
   ]
  },
  {
   "cell_type": "code",
   "execution_count": null,
   "id": "f005eb10-69ea-4749-b2b1-462c5b34f3c7",
   "metadata": {},
   "outputs": [],
   "source": [
    "from pyspark import SparkContext\n",
    "\n",
    "sc = SparkContext.getOrCreate()\n",
    "numbers = sc.parallelize([1, 5, 3, 9, 2, 8, 4, 7, 6], numSlices=3)\n",
    "numbers.collect()"
   ]
  },
  {
   "cell_type": "code",
   "execution_count": null,
   "id": "0e33a73d-6c73-49e9-803c-5afe5338a0a0",
   "metadata": {},
   "outputs": [],
   "source": [
    "# glom()은 각 파티션의 내용을 리스트로 감싸서 반환\n",
    "# 즉, 파티션 간의 이동이 없고, 내부 자료구조만 바꾸는 연산\n",
    "# glom()은 RDD의 각 파티션을 배열 형태로 변환하는 narrow transformation"
   ]
  },
  {
   "cell_type": "code",
   "execution_count": null,
   "id": "2814bbed-2c4f-45bb-8515-e6e0c06cb4a7",
   "metadata": {},
   "outputs": [],
   "source": [
    "numbers.glom().collect()"
   ]
  },
  {
   "cell_type": "code",
   "execution_count": null,
   "id": "52fe18fb-3a13-400c-b900-8d909613971a",
   "metadata": {},
   "outputs": [],
   "source": []
  },
  {
   "cell_type": "code",
   "execution_count": null,
   "id": "633276b4-d059-4a91-b518-2393a52ee9ac",
   "metadata": {},
   "outputs": [],
   "source": [
    "numbers = sc.parallelize([1, 5, 3, 9, 2, 8, 4, 7, 6])"
   ]
  },
  {
   "cell_type": "code",
   "execution_count": null,
   "id": "aa239f88-05bd-4c4f-aed9-1035ebc73fca",
   "metadata": {},
   "outputs": [],
   "source": [
    "# 평균 계산하기\n",
    "sum_count = numbers.aggregate(\n",
    "    (0, 0),  # 초기값 (합계, 개수)\n",
    "    lambda acc, value: (acc[0] + value, acc[1] + 1),  # 각 파티션 내 연산\n",
    "    lambda acc1, acc2: (acc1[0] + acc2[0], acc1[1] + acc2[1])  # 파티션 간 연산\n",
    ")\n",
    "sum_count"
   ]
  },
  {
   "cell_type": "code",
   "execution_count": null,
   "id": "f2f4ddb8-35dc-4e9c-b3a8-4af991406e1e",
   "metadata": {},
   "outputs": [],
   "source": [
    "average = sum_count[0] / sum_count[1]\n",
    "print(\"Average:\", average)  # 5.0"
   ]
  },
  {
   "cell_type": "code",
   "execution_count": null,
   "id": "4950302f-2cbb-476f-9843-ad939b6926b1",
   "metadata": {},
   "outputs": [],
   "source": []
  },
  {
   "cell_type": "code",
   "execution_count": null,
   "id": "b43de85a-ee67-4f78-a4ef-181916e16703",
   "metadata": {},
   "outputs": [],
   "source": [
    "# agg 연습\n",
    "data = [\"hello\", \"world\", \"spark\"]\n",
    "rdd = sc.parallelize(data)\n",
    "\n",
    "def seq_op(acc, value):\n",
    "    text, idx = acc\n",
    "    return (f\"{text} {idx}:{value}\".strip(), idx + 1)\n",
    "\n",
    "def comb_op(acc1, acc2):\n",
    "    # 줄 번호 이어붙이기: 앞쪽 text 유지 + 뒤쪽 text 뒤에 붙이기\n",
    "    text1, idx1 = acc1\n",
    "    text2, idx2 = acc2\n",
    "    # 줄 번호 충돌 피하려면 idx 조정 필요 (복잡하므로 단순히 붙임)\n",
    "    return (f\"{text1} {text2}\".strip(), idx1 + idx2)\n"
   ]
  },
  {
   "cell_type": "code",
   "execution_count": null,
   "id": "c319003c-37ca-4d78-b820-9565e2564695",
   "metadata": {},
   "outputs": [],
   "source": [
    "\n",
    "zero = (\"\", 1)\n",
    "\n",
    "result = rdd.aggregate(zero, seq_op, comb_op)[0]\n",
    "print(result)\n"
   ]
  },
  {
   "cell_type": "code",
   "execution_count": null,
   "id": "f49e0c89-f2a7-44a7-afd1-9e8f2b9d1690",
   "metadata": {},
   "outputs": [],
   "source": [
    "rdd = sc.parallelize([\"spark\", \"hadoop\", \"ai\", \"python\", \"sql\"])\n",
    "result = rdd.aggregate(zero, seq_op, comb_op)[0]\n",
    "print(result)"
   ]
  },
  {
   "cell_type": "code",
   "execution_count": null,
   "id": "37b31549-25b6-42e9-8453-6d8524f9bd14",
   "metadata": {},
   "outputs": [],
   "source": []
  },
  {
   "cell_type": "code",
   "execution_count": null,
   "id": "d27f2afa-ed68-4e68-ac0f-aceb33da0b6b",
   "metadata": {},
   "outputs": [],
   "source": [
    "# 길이가 5 이상인 문자열 개수 세기\n",
    "rdd = sc.parallelize([\"spark\", \"hadoop\", \"ai\", \"python\", \"sql\"])\n",
    "\n",
    "result = rdd.aggregate(\n",
    "    0,\n",
    "    lambda acc, value: acc + (1 if len(value) >= 5 else 0),\n",
    "    lambda acc1, acc2: acc1 + acc2\n",
    ")\n",
    "\n",
    "print(\"길이 5 이상인 문자열 개수:\", result)"
   ]
  },
  {
   "cell_type": "code",
   "execution_count": 92,
   "id": "52f1e055-d626-4c67-8b34-76084c85b339",
   "metadata": {},
   "outputs": [],
   "source": [
    "sc.stop()"
   ]
  },
  {
   "cell_type": "code",
   "execution_count": 93,
   "id": "2c82463c-8851-48cc-85fb-d0dab562c9c5",
   "metadata": {},
   "outputs": [],
   "source": [
    "spark.stop()"
   ]
  },
  {
   "cell_type": "code",
   "execution_count": null,
   "id": "c3674669-57f9-42ab-bfb1-6717b9893506",
   "metadata": {},
   "outputs": [],
   "source": []
  },
  {
   "cell_type": "code",
   "execution_count": null,
   "id": "550041c6-4c9a-4ea0-88cf-9e8e9aaaa92c",
   "metadata": {},
   "outputs": [],
   "source": []
  },
  {
   "cell_type": "code",
   "execution_count": null,
   "id": "573e6103-e9c0-47a8-b84e-a78282c40db6",
   "metadata": {},
   "outputs": [],
   "source": []
  },
  {
   "cell_type": "code",
   "execution_count": null,
   "id": "95a2f016-1405-401f-a522-604c7810b738",
   "metadata": {},
   "outputs": [],
   "source": []
  },
  {
   "cell_type": "code",
   "execution_count": null,
   "id": "ab0c8009-1208-4b71-bf44-937c207708fc",
   "metadata": {},
   "outputs": [],
   "source": []
  },
  {
   "cell_type": "code",
   "execution_count": null,
   "id": "6d8f0c28-122f-4972-ad5a-9e16ec958a68",
   "metadata": {},
   "outputs": [],
   "source": []
  },
  {
   "cell_type": "code",
   "execution_count": null,
   "id": "efc2198a-1ffc-4167-b44f-f56a1fc50e36",
   "metadata": {},
   "outputs": [],
   "source": []
  },
  {
   "cell_type": "code",
   "execution_count": null,
   "id": "4fc5a84b-d6f4-406c-98b8-8762be96aae6",
   "metadata": {},
   "outputs": [],
   "source": []
  }
 ],
 "metadata": {
  "kernelspec": {
   "display_name": "Python 3 (ipykernel)",
   "language": "python",
   "name": "python3"
  },
  "language_info": {
   "codemirror_mode": {
    "name": "ipython",
    "version": 3
   },
   "file_extension": ".py",
   "mimetype": "text/x-python",
   "name": "python",
   "nbconvert_exporter": "python",
   "pygments_lexer": "ipython3",
   "version": "3.11.6"
  }
 },
 "nbformat": 4,
 "nbformat_minor": 5
}
