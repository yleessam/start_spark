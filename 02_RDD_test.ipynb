{
 "cells": [
  {
   "cell_type": "code",
   "execution_count": 1,
   "id": "0ef1661c-3098-491d-a661-51ce4020956b",
   "metadata": {},
   "outputs": [],
   "source": [
    "from pyspark.sql import SparkSession\n",
    "spark = SparkSession.builder.appName('pyspark example2').getOrCreate() #chaining"
   ]
  },
  {
   "cell_type": "markdown",
   "id": "9acf4705-5c73-4f28-9761-50dcb501bb24",
   "metadata": {},
   "source": [
    "# RDD에서 다룰 수 있는 데이터 타입 TypeSafe\n",
    "1. 비정형 데이터 - .... json, txt, str\n",
    "2. 정형 데이터 - 리스트, csv, table"
   ]
  },
  {
   "cell_type": "code",
   "execution_count": 2,
   "id": "56d76390-5cba-40d5-b666-1c439acca9b7",
   "metadata": {},
   "outputs": [
    {
     "data": {
      "text/plain": [
       "learning_spark_data/log.txt MapPartitionsRDD[1] at textFile at NativeMethodAccessorImpl.java:0"
      ]
     },
     "execution_count": 2,
     "metadata": {},
     "output_type": "execute_result"
    }
   ],
   "source": [
    "#RDD[str]\n",
    "rdd1 = spark.sparkContext.textFile('learning_spark_data/log.txt')\n",
    "rdd1"
   ]
  },
  {
   "cell_type": "code",
   "execution_count": 3,
   "id": "9eb540c2-0363-4f63-a619-2244881dab9f",
   "metadata": {},
   "outputs": [
    {
     "data": {
      "text/plain": [
       "['2025-07-31 10:00:01 INFO User=kim ACTION=LOGIN RESULT=SUCCESS',\n",
       " '2025-07-31 10:05:43 WARN User=lee ACTION=DOWNLOAD RESULT=FAIL',\n",
       " '2025-07-31 10:08:22 INFO User=park ACTION=UPLOAD RESULT=SUCCESS']"
      ]
     },
     "execution_count": 3,
     "metadata": {},
     "output_type": "execute_result"
    }
   ],
   "source": [
    "rdd1.take(3)"
   ]
  },
  {
   "cell_type": "code",
   "execution_count": null,
   "id": "5b335046-7a95-439c-8480-5420ed270fe7",
   "metadata": {},
   "outputs": [],
   "source": [
    "#RDD[dict] - data.json"
   ]
  },
  {
   "cell_type": "code",
   "execution_count": 4,
   "id": "718de2c8-e542-475f-b36d-a3e418ab189f",
   "metadata": {},
   "outputs": [
    {
     "data": {
      "text/plain": [
       "PythonRDD[5] at RDD at PythonRDD.scala:53"
      ]
     },
     "execution_count": 4,
     "metadata": {},
     "output_type": "execute_result"
    }
   ],
   "source": [
    "import json\n",
    "rdd2 = spark.sparkContext.textFile('learning_spark_data/data.json').map(json.loads)\n",
    "rdd2"
   ]
  },
  {
   "cell_type": "code",
   "execution_count": 5,
   "id": "f39547c9-50be-415f-be3f-b7b425e104b3",
   "metadata": {
    "scrolled": true
   },
   "outputs": [
    {
     "data": {
      "text/plain": [
       "[{'user': 'kim',\n",
       "  'action': 'login',\n",
       "  'result': 'success',\n",
       "  'time': '2025-07-31 10:00:01'},\n",
       " {'user': 'lee',\n",
       "  'action': 'download',\n",
       "  'result': 'fail',\n",
       "  'time': '2025-07-31 10:05:43'},\n",
       " {'user': 'park',\n",
       "  'action': 'upload',\n",
       "  'result': 'success',\n",
       "  'time': '2025-07-31 10:08:22'}]"
      ]
     },
     "execution_count": 5,
     "metadata": {},
     "output_type": "execute_result"
    }
   ],
   "source": [
    "rdd2.take(3)"
   ]
  },
  {
   "cell_type": "code",
   "execution_count": 8,
   "id": "7c8f1f81-75a0-4ba8-94f4-479f111fe876",
   "metadata": {},
   "outputs": [],
   "source": [
    "spark.stop()"
   ]
  },
  {
   "cell_type": "markdown",
   "id": "9ccf9dc9-91ec-438c-9e72-a71d2d4066f3",
   "metadata": {},
   "source": [
    "## RDD 의 데이터 읽기 패턴\n",
    "1. RDD 생성 - type 지정 x\n",
    "2. 형식 변환 - map()\n",
    "3. take(n)"
   ]
  },
  {
   "cell_type": "markdown",
   "id": "6c67778d-60ec-4662-b999-3c45bbbd6f44",
   "metadata": {},
   "source": [
    "# 스파크컨텍스트 객체\n",
    "\n",
    "1. SparkSession.getOrCreate() -> 세션객체로부터 사전에 설정된 변수에 맞춰 컨텍스트 생성\n",
    "2. SparkConf + SparkContext -> 저수준 연산에 적합한 방식"
   ]
  },
  {
   "cell_type": "code",
   "execution_count": 6,
   "id": "f00b8f94-e555-492b-b2a2-d64367fb35ce",
   "metadata": {},
   "outputs": [
    {
     "data": {
      "text/plain": [
       "<pyspark.conf.SparkConf at 0x7f33486e28d0>"
      ]
     },
     "execution_count": 6,
     "metadata": {},
     "output_type": "execute_result"
    }
   ],
   "source": [
    "from pyspark import SparkConf, SparkContext\n",
    "conf = SparkConf().setMaster('local').setAppName('country-student-counts2')\n",
    "conf"
   ]
  },
  {
   "cell_type": "code",
   "execution_count": null,
   "id": "c9eb2e8e-81ed-4de5-825e-068f63d04011",
   "metadata": {},
   "outputs": [],
   "source": [
    "spark = SparkContext(conf = conf).getOrCreate()\n",
    "#spark.stop()"
   ]
  },
  {
   "cell_type": "code",
   "execution_count": 11,
   "id": "73d5b135-0e6c-4cca-920d-58a0a65220b9",
   "metadata": {
    "scrolled": true
   },
   "outputs": [
    {
     "data": {
      "text/plain": [
       "[('spark.master', 'local'),\n",
       " ('spark.executor.id', 'driver'),\n",
       " ('spark.app.submitTime', '1754024964931'),\n",
       " ('spark.driver.extraJavaOptions',\n",
       "  '-Djava.net.preferIPv6Addresses=false -XX:+IgnoreUnrecognizedVMOptions --add-opens=java.base/java.lang=ALL-UNNAMED --add-opens=java.base/java.lang.invoke=ALL-UNNAMED --add-opens=java.base/java.lang.reflect=ALL-UNNAMED --add-opens=java.base/java.io=ALL-UNNAMED --add-opens=java.base/java.net=ALL-UNNAMED --add-opens=java.base/java.nio=ALL-UNNAMED --add-opens=java.base/java.util=ALL-UNNAMED --add-opens=java.base/java.util.concurrent=ALL-UNNAMED --add-opens=java.base/java.util.concurrent.atomic=ALL-UNNAMED --add-opens=java.base/sun.nio.ch=ALL-UNNAMED --add-opens=java.base/sun.nio.cs=ALL-UNNAMED --add-opens=java.base/sun.security.action=ALL-UNNAMED --add-opens=java.base/sun.util.calendar=ALL-UNNAMED --add-opens=java.security.jgss/sun.security.krb5=ALL-UNNAMED -Djdk.reflect.useDirectMethodHandle=false'),\n",
       " ('spark.app.name', 'country-student-counts2'),\n",
       " ('spark.driver.host', 'd7f0347bc76a'),\n",
       " ('spark.rdd.compress', 'True'),\n",
       " ('spark.serializer.objectStreamReset', '100'),\n",
       " ('spark.app.startTime', '1754026287902'),\n",
       " ('spark.submit.pyFiles', ''),\n",
       " ('spark.submit.deployMode', 'client'),\n",
       " ('spark.app.id', 'local-1754026287967'),\n",
       " ('spark.ui.showConsoleProgress', 'true'),\n",
       " ('spark.driver.port', '35465'),\n",
       " ('spark.executor.extraJavaOptions',\n",
       "  '-Djava.net.preferIPv6Addresses=false -XX:+IgnoreUnrecognizedVMOptions --add-opens=java.base/java.lang=ALL-UNNAMED --add-opens=java.base/java.lang.invoke=ALL-UNNAMED --add-opens=java.base/java.lang.reflect=ALL-UNNAMED --add-opens=java.base/java.io=ALL-UNNAMED --add-opens=java.base/java.net=ALL-UNNAMED --add-opens=java.base/java.nio=ALL-UNNAMED --add-opens=java.base/java.util=ALL-UNNAMED --add-opens=java.base/java.util.concurrent=ALL-UNNAMED --add-opens=java.base/java.util.concurrent.atomic=ALL-UNNAMED --add-opens=java.base/sun.nio.ch=ALL-UNNAMED --add-opens=java.base/sun.nio.cs=ALL-UNNAMED --add-opens=java.base/sun.security.action=ALL-UNNAMED --add-opens=java.base/sun.util.calendar=ALL-UNNAMED --add-opens=java.security.jgss/sun.security.krb5=ALL-UNNAMED -Djdk.reflect.useDirectMethodHandle=false')]"
      ]
     },
     "execution_count": 11,
     "metadata": {},
     "output_type": "execute_result"
    }
   ],
   "source": [
    "spark.getConf().getAll()"
   ]
  },
  {
   "cell_type": "code",
   "execution_count": 12,
   "id": "a90fc7fd-8372-4136-b615-a84f22185388",
   "metadata": {},
   "outputs": [],
   "source": [
    "spark.stop()"
   ]
  },
  {
   "cell_type": "code",
   "execution_count": null,
   "id": "f74b24f1-c38a-41a7-b033-4177bf7180cf",
   "metadata": {},
   "outputs": [],
   "source": []
  },
  {
   "cell_type": "code",
   "execution_count": 13,
   "id": "857409d5-54b9-41f6-8997-fa76f143f753",
   "metadata": {},
   "outputs": [
    {
     "data": {
      "text/plain": [
       "'/home/jovyan/work'"
      ]
     },
     "execution_count": 13,
     "metadata": {},
     "output_type": "execute_result"
    }
   ],
   "source": [
    "import os\n",
    "os.getcwd() # 컨테이너 내부 경로"
   ]
  },
  {
   "cell_type": "code",
   "execution_count": 14,
   "id": "e66174bb-81a2-4612-9d21-0a16b648d46d",
   "metadata": {},
   "outputs": [
    {
     "data": {
      "text/plain": [
       "'/home/jovyan/work/learning_spark_data'"
      ]
     },
     "execution_count": 14,
     "metadata": {},
     "output_type": "execute_result"
    }
   ],
   "source": [
    "dir = os.path.join( os.getcwd() , 'learning_spark_data')\n",
    "dir"
   ]
  },
  {
   "cell_type": "code",
   "execution_count": 15,
   "id": "6292ee4a-e337-4d1d-bc20-31f9813439ce",
   "metadata": {},
   "outputs": [
    {
     "data": {
      "text/plain": [
       "'/home/jovyan/work/learning_spark_data/xAPI-Edu-Data.csv'"
      ]
     },
     "execution_count": 15,
     "metadata": {},
     "output_type": "execute_result"
    }
   ],
   "source": [
    "filename = 'xAPI-Edu-Data.csv'\n",
    "filepath = os.path.join( dir, filename)\n",
    "filepath"
   ]
  },
  {
   "cell_type": "markdown",
   "id": "628774e5-0454-4888-b68c-ec359f869d6a",
   "metadata": {},
   "source": [
    "## 외부저장소에서 데이터를 로드, RDD 생성"
   ]
  },
  {
   "cell_type": "code",
   "execution_count": 19,
   "id": "c595ddf4-2ab9-46f0-ada4-5a53a7f43ee9",
   "metadata": {},
   "outputs": [],
   "source": [
    "spark = SparkContext(conf = conf).getOrCreate()\n",
    "#spark.stop()"
   ]
  },
  {
   "cell_type": "code",
   "execution_count": 20,
   "id": "84fffbc7-4865-4441-8fd5-4456028ffe2c",
   "metadata": {},
   "outputs": [
    {
     "data": {
      "text/plain": [
       "file:////home/jovyan/work/learning_spark_data/xAPI-Edu-Data.csv MapPartitionsRDD[1] at textFile at NativeMethodAccessorImpl.java:0"
      ]
     },
     "execution_count": 20,
     "metadata": {},
     "output_type": "execute_result"
    }
   ],
   "source": [
    "lines = spark.textFile('file:///'+filepath.replace('\\\\','/'))\n",
    "lines"
   ]
  },
  {
   "cell_type": "code",
   "execution_count": 22,
   "id": "aea5a622-9b39-44aa-851d-790c476f7e0a",
   "metadata": {},
   "outputs": [
    {
     "data": {
      "text/plain": [
       "['gender,NationalITy,PlaceofBirth,StageID,GradeID,SectionID,Topic,Semester,Relation,raisedhands,VisITedResources,AnnouncementsView,Discussion,ParentAnsweringSurvey,ParentschoolSatisfaction,StudentAbsenceDays,Class']"
      ]
     },
     "execution_count": 22,
     "metadata": {},
     "output_type": "execute_result"
    }
   ],
   "source": [
    "lines.take(1)"
   ]
  },
  {
   "cell_type": "code",
   "execution_count": 23,
   "id": "35c241d8-0eb4-462c-b404-7bdd4674affc",
   "metadata": {},
   "outputs": [
    {
     "data": {
      "text/plain": [
       "481"
      ]
     },
     "execution_count": 23,
     "metadata": {},
     "output_type": "execute_result"
    }
   ],
   "source": [
    "lines.count() #대용량일 경우 문제 -> take(n)"
   ]
  },
  {
   "cell_type": "markdown",
   "id": "f3596e68-8841-47e3-ad82-bcb3a1f65fb6",
   "metadata": {},
   "source": [
    "# 데이터의 처리"
   ]
  },
  {
   "cell_type": "code",
   "execution_count": 24,
   "id": "9e20951a-a67f-4c04-9164-d0c7760678ea",
   "metadata": {},
   "outputs": [
    {
     "data": {
      "text/plain": [
       "'gender,NationalITy,PlaceofBirth,StageID,GradeID,SectionID,Topic,Semester,Relation,raisedhands,VisITedResources,AnnouncementsView,Discussion,ParentAnsweringSurvey,ParentschoolSatisfaction,StudentAbsenceDays,Class'"
      ]
     },
     "execution_count": 24,
     "metadata": {},
     "output_type": "execute_result"
    }
   ],
   "source": [
    "header = lines.first()\n",
    "header"
   ]
  },
  {
   "cell_type": "code",
   "execution_count": 25,
   "id": "5992c454-68f0-4ffd-ba8d-a401aab5151d",
   "metadata": {},
   "outputs": [
    {
     "data": {
      "text/plain": [
       "['M,KW,KuwaIT,lowerlevel,G-04,A,IT,F,Father,15,16,2,20,Yes,Good,Under-7,M',\n",
       " 'M,KW,KuwaIT,lowerlevel,G-04,A,IT,F,Father,20,20,3,25,Yes,Good,Under-7,M',\n",
       " 'M,KW,KuwaIT,lowerlevel,G-04,A,IT,F,Father,10,7,0,30,No,Bad,Above-7,L']"
      ]
     },
     "execution_count": 25,
     "metadata": {},
     "output_type": "execute_result"
    }
   ],
   "source": [
    "datas = lines.filter(lambda row : row != header)\n",
    "datas.take(3)"
   ]
  },
  {
   "cell_type": "code",
   "execution_count": 26,
   "id": "66b2092e-e48d-4027-96c4-59eddf4d336a",
   "metadata": {},
   "outputs": [
    {
     "data": {
      "text/plain": [
       "PythonRDD[7] at RDD at PythonRDD.scala:53"
      ]
     },
     "execution_count": 26,
     "metadata": {},
     "output_type": "execute_result"
    }
   ],
   "source": [
    "countries = datas.map(lambda row : row.split(',')[2])\n",
    "countries"
   ]
  },
  {
   "cell_type": "code",
   "execution_count": 27,
   "id": "aca045e4-9461-42b8-afe4-20a08eaec928",
   "metadata": {},
   "outputs": [
    {
     "data": {
      "text/plain": [
       "['KuwaIT', 'KuwaIT', 'KuwaIT']"
      ]
     },
     "execution_count": 27,
     "metadata": {},
     "output_type": "execute_result"
    }
   ],
   "source": [
    "countries.take(3)"
   ]
  },
  {
   "cell_type": "code",
   "execution_count": 28,
   "id": "a88dbc7f-4755-4728-978e-1036797eb10b",
   "metadata": {
    "scrolled": true
   },
   "outputs": [
    {
     "data": {
      "text/plain": [
       "defaultdict(int,\n",
       "            {'KuwaIT': 180,\n",
       "             'lebanon': 19,\n",
       "             'Egypt': 9,\n",
       "             'SaudiArabia': 16,\n",
       "             'USA': 16,\n",
       "             'Jordan': 176,\n",
       "             'venzuela': 1,\n",
       "             'Iran': 6,\n",
       "             'Tunis': 9,\n",
       "             'Morocco': 4,\n",
       "             'Syria': 6,\n",
       "             'Iraq': 22,\n",
       "             'Palestine': 10,\n",
       "             'Lybia': 6})"
      ]
     },
     "execution_count": 28,
     "metadata": {},
     "output_type": "execute_result"
    }
   ],
   "source": [
    "result = countries.countByValue() #집계\n",
    "result"
   ]
  },
  {
   "cell_type": "code",
   "execution_count": 29,
   "id": "77756fad-0baf-4608-b6f9-2869dbd7896d",
   "metadata": {},
   "outputs": [
    {
     "data": {
      "text/plain": [
       "dict_items([('KuwaIT', 180), ('lebanon', 19), ('Egypt', 9), ('SaudiArabia', 16), ('USA', 16), ('Jordan', 176), ('venzuela', 1), ('Iran', 6), ('Tunis', 9), ('Morocco', 4), ('Syria', 6), ('Iraq', 22), ('Palestine', 10), ('Lybia', 6)])"
      ]
     },
     "execution_count": 29,
     "metadata": {},
     "output_type": "execute_result"
    }
   ],
   "source": [
    "result.items()"
   ]
  },
  {
   "cell_type": "code",
   "execution_count": 31,
   "id": "da4bd79e-ed91-41d6-ac49-a5f5f424d1fb",
   "metadata": {
    "scrolled": true
   },
   "outputs": [
    {
     "data": {
      "text/plain": [
       "[('KuwaIT', 180), ('Jordan', 176), ('Iraq', 22)]"
      ]
     },
     "execution_count": 31,
     "metadata": {},
     "output_type": "execute_result"
    }
   ],
   "source": [
    "sorted(result.items(), key = lambda x: x[1], reverse=True)[:3]"
   ]
  },
  {
   "cell_type": "code",
   "execution_count": 34,
   "id": "9bf21a73-e7d5-4efe-b925-62aec667effb",
   "metadata": {},
   "outputs": [
    {
     "data": {
      "text/plain": [
       "480"
      ]
     },
     "execution_count": 34,
     "metadata": {},
     "output_type": "execute_result"
    }
   ],
   "source": [
    "total_su = sum(result.values()) #480명이다.\n",
    "total_su"
   ]
  },
  {
   "cell_type": "code",
   "execution_count": 35,
   "id": "782687b5-5963-4c46-a343-f276db92e5dc",
   "metadata": {
    "scrolled": true
   },
   "outputs": [
    {
     "data": {
      "text/plain": [
       "{'KuwaIT': 37.5,\n",
       " 'lebanon': 3.96,\n",
       " 'Egypt': 1.88,\n",
       " 'SaudiArabia': 3.33,\n",
       " 'USA': 3.33,\n",
       " 'Jordan': 36.67,\n",
       " 'venzuela': 0.21,\n",
       " 'Iran': 1.25,\n",
       " 'Tunis': 1.88,\n",
       " 'Morocco': 0.83,\n",
       " 'Syria': 1.25,\n",
       " 'Iraq': 4.58,\n",
       " 'Palestine': 2.08,\n",
       " 'Lybia': 1.25}"
      ]
     },
     "execution_count": 35,
     "metadata": {},
     "output_type": "execute_result"
    }
   ],
   "source": [
    "# 비율 계산\n",
    "ratios = {k: round(v / total_su *100 ,2) for k,v in result.items() }\n",
    "ratios"
   ]
  },
  {
   "cell_type": "code",
   "execution_count": 36,
   "id": "ecafda41-156b-4c55-916b-0e22239072d8",
   "metadata": {},
   "outputs": [
    {
     "data": {
      "text/plain": [
       "<BarContainer object of 14 artists>"
      ]
     },
     "execution_count": 36,
     "metadata": {},
     "output_type": "execute_result"
    },
    {
     "data": {
      "image/png": "[encoded data removed]",
      "text/plain": [
       "<Figure size 640x480 with 1 Axes>"
      ]
     },
     "metadata": {},
     "output_type": "display_data"
    }
   ],
   "source": [
    "import matplotlib.pyplot as plt\n",
    "countries = list(result.keys())\n",
    "counts = list(result.values())\n",
    "plt.bar(countries, counts)"
   ]
  },
  {
   "cell_type": "markdown",
   "id": "37eab5c4-7be2-4649-a2b0-65dc530bc905",
   "metadata": {},
   "source": [
    "# rdd 연습"
   ]
  },
  {
   "cell_type": "code",
   "execution_count": 37,
   "id": "04bec322-86ef-4212-99cf-fb37bf0c4ff7",
   "metadata": {},
   "outputs": [],
   "source": [
    "spark = SparkSession.builder.appName('pyspark example2').getOrCreate() \n"
   ]
  },
  {
   "cell_type": "code",
   "execution_count": 38,
   "id": "b14f1c2a-f01e-4316-a584-4352a36ce2f8",
   "metadata": {},
   "outputs": [
    {
     "data": {
      "text/plain": [
       "ParallelCollectionRDD[10] at readRDDFromFile at PythonRDD.scala:289"
      ]
     },
     "execution_count": 38,
     "metadata": {},
     "output_type": "execute_result"
    }
   ],
   "source": [
    "# 2. RDD 생성 - 기본 리스트\n",
    "data = [\"KuwaIT\", \"lebanon\", \"Jordan\", \"Jordan\", \"USA\", \"Egypt\", \n",
    "        \"Jordan\", \"USA\", \"Iran\", \"Iran\", \"KuwaIT\"]\n",
    "\n",
    "countries = spark.sparkContext.parallelize(data)\n",
    "countries"
   ]
  },
  {
   "cell_type": "code",
   "execution_count": 40,
   "id": "95ed1d3e-8470-43d7-8ef6-ca8bbee96112",
   "metadata": {},
   "outputs": [
    {
     "data": {
      "text/plain": [
       "['kuwait', 'lebanon', 'jordan', 'jordan', 'usa']"
      ]
     },
     "execution_count": 40,
     "metadata": {},
     "output_type": "execute_result"
    }
   ],
   "source": [
    "# 소문자로 변환 lower()\n",
    "countries_lower = countries.map(lambda x:x.lower())\n",
    "countries_lower.take(5)"
   ]
  },
  {
   "cell_type": "code",
   "execution_count": 41,
   "id": "34ee85df-52f5-4fa6-8ff1-c498f9d0d401",
   "metadata": {},
   "outputs": [
    {
     "data": {
      "text/plain": [
       "['jordan', 'jordan', 'jordan']"
      ]
     },
     "execution_count": 41,
     "metadata": {},
     "output_type": "execute_result"
    }
   ],
   "source": [
    "# jordan 추출\n",
    "jordan = countries_lower.filter(lambda x:x=='jordan')\n",
    "jordan.collect()"
   ]
  },
  {
   "cell_type": "code",
   "execution_count": 43,
   "id": "34e7fbbf-df95-4aa7-9e55-f653d9ed058d",
   "metadata": {},
   "outputs": [
    {
     "data": {
      "text/plain": [
       "6"
      ]
     },
     "execution_count": 43,
     "metadata": {},
     "output_type": "execute_result"
    }
   ],
   "source": [
    "# 몇개국인지 세어보세요 : distinct()> count()\n",
    "unique_countries = countries_lower.distinct()\n",
    "unique_countries.count()"
   ]
  },
  {
   "cell_type": "code",
   "execution_count": null,
   "id": "58b5b404-a0cf-484f-818c-bd3d9f100238",
   "metadata": {},
   "outputs": [],
   "source": [
    "# 국가별 빈도수"
   ]
  },
  {
   "cell_type": "code",
   "execution_count": 44,
   "id": "ad32f596-6f24-44da-bcae-e1a522fe8ef5",
   "metadata": {},
   "outputs": [
    {
     "data": {
      "text/plain": [
       "['KuwaIT',\n",
       " 'lebanon',\n",
       " 'Jordan',\n",
       " 'Jordan',\n",
       " 'USA',\n",
       " 'Egypt',\n",
       " 'Jordan',\n",
       " 'USA',\n",
       " 'Iran',\n",
       " 'Iran',\n",
       " 'KuwaIT']"
      ]
     },
     "execution_count": 44,
     "metadata": {},
     "output_type": "execute_result"
    }
   ],
   "source": [
    "data"
   ]
  },
  {
   "cell_type": "code",
   "execution_count": 45,
   "id": "4bc8d587-ce2e-4dd6-b718-696ad9ef09e3",
   "metadata": {},
   "outputs": [
    {
     "data": {
      "text/plain": [
       "[('kuwait', 1)]"
      ]
     },
     "execution_count": 45,
     "metadata": {},
     "output_type": "execute_result"
    }
   ],
   "source": [
    "country_pairs = countries_lower.map(lambda x: (x,1))\n",
    "country_pairs.take(1)"
   ]
  },
  {
   "cell_type": "code",
   "execution_count": 46,
   "id": "cd18ae4e-0af1-4648-9889-56742ce716b7",
   "metadata": {},
   "outputs": [
    {
     "data": {
      "text/plain": [
       "[('kuwait', 2), ('lebanon', 1)]"
      ]
     },
     "execution_count": 46,
     "metadata": {},
     "output_type": "execute_result"
    }
   ],
   "source": [
    "country_counts = country_pairs.reduceByKey(lambda a,b: a+b)\n",
    "country_counts.take(2)"
   ]
  },
  {
   "cell_type": "code",
   "execution_count": 47,
   "id": "4ce52d43-8827-4878-98ab-c1ec5a12bb79",
   "metadata": {
    "scrolled": true
   },
   "outputs": [
    {
     "data": {
      "text/plain": [
       "[('kuwait', 2),\n",
       " ('lebanon', 1),\n",
       " ('jordan', 3),\n",
       " ('usa', 2),\n",
       " ('egypt', 1),\n",
       " ('iran', 2)]"
      ]
     },
     "execution_count": 47,
     "metadata": {},
     "output_type": "execute_result"
    }
   ],
   "source": [
    "country_counts.take(6)"
   ]
  },
  {
   "cell_type": "code",
   "execution_count": 48,
   "id": "4360a878-2e3d-462d-af10-88437d40aa45",
   "metadata": {},
   "outputs": [
    {
     "data": {
      "text/plain": [
       "[('kuwait', 2),\n",
       " ('lebanon', 1),\n",
       " ('jordan', 3),\n",
       " ('usa', 2),\n",
       " ('egypt', 1),\n",
       " ('iran', 2)]"
      ]
     },
     "execution_count": 48,
     "metadata": {},
     "output_type": "execute_result"
    }
   ],
   "source": [
    "country_counts.collect()"
   ]
  },
  {
   "cell_type": "code",
   "execution_count": 50,
   "id": "b315f608-a6c7-495d-b711-fbff60689ced",
   "metadata": {},
   "outputs": [
    {
     "data": {
      "text/plain": [
       "[('egypt', 1),\n",
       " ('iran', 2),\n",
       " ('jordan', 3),\n",
       " ('kuwait', 2),\n",
       " ('lebanon', 1),\n",
       " ('usa', 2)]"
      ]
     },
     "execution_count": 50,
     "metadata": {},
     "output_type": "execute_result"
    }
   ],
   "source": [
    "country_counts.sortByKey().collect()"
   ]
  },
  {
   "cell_type": "code",
   "execution_count": 51,
   "id": "c10133a2-eae9-4e91-94ee-9175fe8f1c49",
   "metadata": {},
   "outputs": [
    {
     "data": {
      "text/plain": [
       "[('jordan', 3),\n",
       " ('kuwait', 2),\n",
       " ('usa', 2),\n",
       " ('iran', 2),\n",
       " ('lebanon', 1),\n",
       " ('egypt', 1)]"
      ]
     },
     "execution_count": 51,
     "metadata": {},
     "output_type": "execute_result"
    }
   ],
   "source": [
    "country_counts.sortBy( lambda x:x[1], ascending=False).collect()"
   ]
  },
  {
   "cell_type": "code",
   "execution_count": 52,
   "id": "afc88b32-9a3b-47c7-b474-8d6a11de5adb",
   "metadata": {},
   "outputs": [
    {
     "data": {
      "text/plain": [
       "'KuwaIT,lebanon,Jordan,Jordan,USA,Egypt,Jordan,USA,Iran,Iran,KuwaIT'"
      ]
     },
     "execution_count": 52,
     "metadata": {},
     "output_type": "execute_result"
    }
   ],
   "source": [
    "countries.reduce(lambda a, b: a+','+b) #변환"
   ]
  },
  {
   "cell_type": "markdown",
   "id": "71d5272b-32ae-4b8d-9898-9119dcc9b246",
   "metadata": {},
   "source": [
    "# 저장소에 저장하기"
   ]
  },
  {
   "cell_type": "code",
   "execution_count": 53,
   "id": "bc02762d-755a-4ce2-a35c-be799395b6b2",
   "metadata": {},
   "outputs": [],
   "source": [
    "output_path = 'output/countries_result'"
   ]
  },
  {
   "cell_type": "code",
   "execution_count": 55,
   "id": "6d9723e7-44c5-460f-b482-ad5d37262699",
   "metadata": {},
   "outputs": [],
   "source": [
    "import shutil"
   ]
  },
  {
   "cell_type": "code",
   "execution_count": 56,
   "id": "ddef3a2e-0dda-4296-a760-7f87a1692ce4",
   "metadata": {},
   "outputs": [],
   "source": [
    "output_path = 'output/countries_result'\n",
    "if os.path.exists(output_path):\n",
    "    shutil.rmtree(output_path)\n",
    "countries.saveAsTextFile(output_path) #저장소 경로"
   ]
  },
  {
   "cell_type": "code",
   "execution_count": 58,
   "id": "497c76cb-9e9d-459f-ab9d-d7153e26e254",
   "metadata": {},
   "outputs": [],
   "source": [
    "spark.stop()"
   ]
  },
  {
   "cell_type": "markdown",
   "id": "145de193-d33c-44b3-9856-194be8125759",
   "metadata": {},
   "source": [
    "# mnm_dataset.csv 를 읽어서 주별 총 사탕수 구하기"
   ]
  },
  {
   "cell_type": "markdown",
   "id": "8da0c347-2660-4dfc-b58e-b31847a8bef9",
   "metadata": {},
   "source": [
    "# 주별, 색상별 개수"
   ]
  },
  {
   "cell_type": "code",
   "execution_count": 61,
   "id": "02a1e10e-32e3-445e-ac67-ca8a5a08682d",
   "metadata": {},
   "outputs": [],
   "source": [
    "from pyspark.sql import SparkSession\n",
    "spark = SparkSession.builder.appName('mnms count example')\\\n",
    "            .getOrCreate()"
   ]
  },
  {
   "cell_type": "code",
   "execution_count": 62,
   "id": "7a8b71de-11e2-4f26-b680-e540edf44940",
   "metadata": {},
   "outputs": [
    {
     "data": {
      "text/html": [
       "\n",
       "            <div>\n",
       "                <p><b>SparkSession - in-memory</b></p>\n",
       "                \n",
       "        <div>\n",
       "            <p><b>SparkContext</b></p>\n",
       "\n",
       "            <p><a href=\"http://d7f0347bc76a:4040\">Spark UI</a></p>\n",
       "\n",
       "            <dl>\n",
       "              <dt>Version</dt>\n",
       "                <dd><code>v3.5.0</code></dd>\n",
       "              <dt>Master</dt>\n",
       "                <dd><code>local[*]</code></dd>\n",
       "              <dt>AppName</dt>\n",
       "                <dd><code>mnms count example</code></dd>\n",
       "            </dl>\n",
       "        </div>\n",
       "        \n",
       "            </div>\n",
       "        "
      ],
      "text/plain": [
       "<pyspark.sql.session.SparkSession at 0x7f3326b6d3d0>"
      ]
     },
     "execution_count": 62,
     "metadata": {},
     "output_type": "execute_result"
    }
   ],
   "source": [
    "spark"
   ]
  },
  {
   "cell_type": "code",
   "execution_count": 63,
   "id": "cb480e35-2c53-4bcb-b334-e5e713523ced",
   "metadata": {},
   "outputs": [],
   "source": [
    "rdd = spark.sparkContext.textFile('learning_spark_data/mnm_dataset.csv')"
   ]
  },
  {
   "cell_type": "code",
   "execution_count": 67,
   "id": "0fd761ef-9db7-435a-8867-8f0f2024f4f4",
   "metadata": {},
   "outputs": [],
   "source": [
    "header = rdd.first()\n",
    "data = rdd.filter(lambda line: line!= header)\\\n",
    "            .map(lambda line: line.split(','))"
   ]
  },
  {
   "cell_type": "code",
   "execution_count": 68,
   "id": "7873dd59-7c1b-4ef0-a7ed-ff2ed20afc30",
   "metadata": {},
   "outputs": [
    {
     "data": {
      "text/plain": [
       "[['TX', 'Red', '20'], ['NV', 'Blue', '66'], ['CO', 'Blue', '79']]"
      ]
     },
     "execution_count": 68,
     "metadata": {},
     "output_type": "execute_result"
    }
   ],
   "source": [
    "data.take(3)"
   ]
  },
  {
   "cell_type": "code",
   "execution_count": 70,
   "id": "6be44435-0c45-4d2a-8d04-2c3653d5e5eb",
   "metadata": {},
   "outputs": [
    {
     "data": {
      "text/plain": [
       "[('TX', 20), ('NV', 66), ('CO', 79)]"
      ]
     },
     "execution_count": 70,
     "metadata": {},
     "output_type": "execute_result"
    }
   ],
   "source": [
    "rdd1 = data.map(lambda x: (x[0], int(x[2])))\n",
    "rdd1.take(3)"
   ]
  },
  {
   "cell_type": "code",
   "execution_count": 71,
   "id": "dfd87bb5-94d7-40b4-99cc-8dc07ceb523e",
   "metadata": {},
   "outputs": [
    {
     "data": {
      "text/plain": [
       "[('NV', 548477), ('CO', 556302), ('OR', 542169)]"
      ]
     },
     "execution_count": 71,
     "metadata": {},
     "output_type": "execute_result"
    }
   ],
   "source": [
    "rdd2 = rdd1.reduceByKey(lambda a,b: a+b)\n",
    "rdd2.take(3)"
   ]
  },
  {
   "cell_type": "code",
   "execution_count": null,
   "id": "3645871c-159e-41af-a6c4-6cdf970a98fc",
   "metadata": {},
   "outputs": [],
   "source": []
  },
  {
   "cell_type": "code",
   "execution_count": null,
   "id": "694955b8-d393-4129-b570-89b15b662d0a",
   "metadata": {},
   "outputs": [],
   "source": []
  },
  {
   "cell_type": "code",
   "execution_count": 73,
   "id": "a962353f-f3d5-42f5-a725-c6771a11983b",
   "metadata": {},
   "outputs": [
    {
     "data": {
      "text/plain": [
       "[(('NV', 'Blue'), 90003), (('CO', 'Blue'), 93412), (('OR', 'Blue'), 90526)]"
      ]
     },
     "execution_count": 73,
     "metadata": {},
     "output_type": "execute_result"
    }
   ],
   "source": [
    "#state, color count\n",
    "rdd3 = data.map(lambda x: ((x[0], x[1]), int(x[2])))\\\n",
    "        .reduceByKey(lambda a,b: a+b)\n",
    "rdd3.take(3)"
   ]
  },
  {
   "cell_type": "raw",
   "id": "cc911736-78b3-41c1-a8dd-bb2993ebc229",
   "metadata": {},
   "source": [
    "# 전체 목록 보기 > 모두메모리에 올린다."
   ]
  },
  {
   "cell_type": "code",
   "execution_count": 74,
   "id": "ca735c45-841c-46c3-9454-104b089547bd",
   "metadata": {
    "scrolled": true
   },
   "outputs": [
    {
     "data": {
      "text/plain": [
       "[(('NV', 'Blue'), 90003),\n",
       " (('CO', 'Blue'), 93412),\n",
       " (('OR', 'Blue'), 90526),\n",
       " (('WA', 'Yellow'), 92920),\n",
       " (('OR', 'Green'), 89578),\n",
       " (('NV', 'Green'), 91331),\n",
       " (('AZ', 'Blue'), 89971),\n",
       " (('NV', 'Red'), 89346),\n",
       " (('TX', 'Brown'), 90736),\n",
       " (('CO', 'Red'), 89465),\n",
       " (('AZ', 'Green'), 91882),\n",
       " (('NM', 'Yellow'), 92747),\n",
       " (('WY', 'Yellow'), 87800),\n",
       " (('CO', 'Orange'), 90971),\n",
       " (('NV', 'Orange'), 93929),\n",
       " (('CA', 'Green'), 93505),\n",
       " (('UT', 'Red'), 90995),\n",
       " (('CA', 'Red'), 91527),\n",
       " (('TX', 'Yellow'), 93819),\n",
       " (('AZ', 'Orange'), 91684),\n",
       " (('AZ', 'Red'), 90042),\n",
       " (('CA', 'Blue'), 89123),\n",
       " (('UT', 'Green'), 88392),\n",
       " (('WA', 'Brown'), 93082),\n",
       " (('OR', 'Red'), 90286),\n",
       " (('UT', 'Blue'), 89977),\n",
       " (('NM', 'Brown'), 93447),\n",
       " (('WY', 'Brown'), 86110),\n",
       " (('CA', 'Orange'), 90311),\n",
       " (('OR', 'Orange'), 94514),\n",
       " (('CO', 'Green'), 93724),\n",
       " (('UT', 'Orange'), 91341),\n",
       " (('TX', 'Red'), 95404),\n",
       " (('WY', 'Blue'), 91002),\n",
       " (('CA', 'Yellow'), 100956),\n",
       " (('WA', 'Green'), 96486),\n",
       " (('TX', 'Green'), 95753),\n",
       " (('AZ', 'Brown'), 92287),\n",
       " (('OR', 'Brown'), 89136),\n",
       " (('WY', 'Orange'), 87956),\n",
       " (('WA', 'Red'), 93332),\n",
       " (('WY', 'Red'), 91768),\n",
       " (('TX', 'Orange'), 92315),\n",
       " (('WY', 'Green'), 94339),\n",
       " (('WA', 'Orange'), 91521),\n",
       " (('CO', 'Brown'), 93692),\n",
       " (('NM', 'Green'), 91160),\n",
       " (('NV', 'Yellow'), 91390),\n",
       " (('TX', 'Blue'), 88466),\n",
       " (('UT', 'Yellow'), 89264),\n",
       " (('UT', 'Brown'), 88973),\n",
       " (('WA', 'Blue'), 89886),\n",
       " (('AZ', 'Yellow'), 90946),\n",
       " (('CA', 'Brown'), 95762),\n",
       " (('NM', 'Blue'), 90150),\n",
       " (('NV', 'Brown'), 92478),\n",
       " (('NM', 'Orange'), 91251),\n",
       " (('OR', 'Yellow'), 88129),\n",
       " (('NM', 'Red'), 94699),\n",
       " (('CO', 'Yellow'), 95038)]"
      ]
     },
     "execution_count": 74,
     "metadata": {},
     "output_type": "execute_result"
    }
   ],
   "source": [
    "rdd3.collect()"
   ]
  },
  {
   "cell_type": "code",
   "execution_count": null,
   "id": "cfc70482-108f-41f1-985a-eeb50bb6a82e",
   "metadata": {},
   "outputs": [],
   "source": []
  },
  {
   "cell_type": "code",
   "execution_count": null,
   "id": "1204cfcb-75d7-44a0-8147-a0163373d235",
   "metadata": {},
   "outputs": [],
   "source": [
    "# output 으로 내보내기"
   ]
  },
  {
   "cell_type": "code",
   "execution_count": 75,
   "id": "34175da2-718e-4e7c-bd97-1cc93818b66b",
   "metadata": {},
   "outputs": [],
   "source": [
    "output_path = 'output/mnms_result'\n",
    "if os.path.exists(output_path):\n",
    "    shutil.rmtree(output_path)\n",
    "rdd3.saveAsTextFile(output_path) #저장소 경로"
   ]
  },
  {
   "cell_type": "code",
   "execution_count": null,
   "id": "b7cce356-d0ee-4643-ad5a-e74c082f9a2d",
   "metadata": {},
   "outputs": [],
   "source": []
  },
  {
   "cell_type": "code",
   "execution_count": 78,
   "id": "fe0b6672-692e-42a8-a286-1cbe38e8f9ee",
   "metadata": {},
   "outputs": [
    {
     "name": "stdout",
     "output_type": "stream",
     "text": [
      "Setting default log level to \"WARN\".\n",
      "To adjust logging level use sc.setLogLevel(newLevel). For SparkR, use setLogLevel(newLevel).\n",
      "25/08/04 01:49:10 WARN NativeCodeLoader: Unable to load native-hadoop library for your platform... using builtin-java classes where applicable\n",
      "25/08/04 01:49:10 WARN Utils: Service 'SparkUI' could not bind on port 4040. Attempting port 4041.\n",
      "25/08/04 01:49:10 WARN Utils: Service 'SparkUI' could not bind on port 4041. Attempting port 4042.\n",
      "결과 미리보기----\n",
      "(('TX', 'Red'), 95404)\n",
      "(('WY', 'Blue'), 91002)\n",
      "(('CA', 'Yellow'), 100956)\n",
      "(('WA', 'Green'), 96486)\n",
      "(('TX', 'Green'), 95753)\n",
      "총 데이터 라인 수 : 60\n"
     ]
    }
   ],
   "source": [
    "!python 02_mnms_result_load.py"
   ]
  }
 ],
 "metadata": {
  "kernelspec": {
   "display_name": "Python 3 (ipykernel)",
   "language": "python",
   "name": "python3"
  },
  "language_info": {
   "codemirror_mode": {
    "name": "ipython",
    "version": 3
   },
   "file_extension": ".py",
   "mimetype": "text/x-python",
   "name": "python",
   "nbconvert_exporter": "python",
   "pygments_lexer": "ipython3",
   "version": "3.11.6"
  }
 },
 "nbformat": 4,
 "nbformat_minor": 5
}
