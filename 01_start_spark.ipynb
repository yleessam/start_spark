{
 "cells": [
  {
   "cell_type": "code",
   "execution_count": 1,
   "id": "77dc1d61-06cc-4a24-a92b-bdf3b7d00638",
   "metadata": {},
   "outputs": [
    {
     "name": "stdout",
     "output_type": "stream",
     "text": [
      "hello\n"
     ]
    }
   ],
   "source": [
    "print('hello')"
   ]
  },
  {
   "cell_type": "code",
   "execution_count": 2,
   "id": "747da3d9-fb86-43f5-af09-6c50cba271b2",
   "metadata": {},
   "outputs": [
    {
     "name": "stdout",
     "output_type": "stream",
     "text": [
      "/opt/conda/bin/python\n"
     ]
    }
   ],
   "source": [
    "!which python"
   ]
  },
  {
   "cell_type": "code",
   "execution_count": 5,
   "id": "7799401f-df25-43bf-a323-c1162d27d091",
   "metadata": {},
   "outputs": [
    {
     "name": "stdout",
     "output_type": "stream",
     "text": [
      "/usr/bin/java\n"
     ]
    }
   ],
   "source": [
    "!which java"
   ]
  },
  {
   "cell_type": "code",
   "execution_count": 3,
   "id": "8ad86fcc-b523-4413-9c38-792111cc43fd",
   "metadata": {},
   "outputs": [
    {
     "name": "stdout",
     "output_type": "stream",
     "text": [
      "Python 3.11.6\n"
     ]
    }
   ],
   "source": [
    "!python --version"
   ]
  },
  {
   "cell_type": "code",
   "execution_count": 4,
   "id": "eaca5c49-7fab-430e-a428-ffc7cfd670c4",
   "metadata": {},
   "outputs": [
    {
     "name": "stdout",
     "output_type": "stream",
     "text": [
      "openjdk version \"17.0.8.1\" 2023-08-24\n",
      "OpenJDK Runtime Environment (build 17.0.8.1+1-Ubuntu-0ubuntu122.04)\n",
      "OpenJDK 64-Bit Server VM (build 17.0.8.1+1-Ubuntu-0ubuntu122.04, mixed mode, sharing)\n"
     ]
    }
   ],
   "source": [
    "!java -version"
   ]
  },
  {
   "cell_type": "code",
   "execution_count": 6,
   "id": "ad69f8ed-b583-4957-9da0-d6fb130007f5",
   "metadata": {},
   "outputs": [
    {
     "name": "stdout",
     "output_type": "stream",
     "text": [
      "Name: pyspark\n",
      "Version: 3.5.0\n",
      "Summary: Apache Spark Python API\n",
      "Home-page: https://github.com/apache/spark/tree/master/python\n",
      "Author: Spark Developers\n",
      "Author-email: dev@spark.apache.org\n",
      "License: http://www.apache.org/licenses/LICENSE-2.0\n",
      "Location: /usr/local/spark/python\n",
      "Requires: py4j\n",
      "Required-by: \n",
      "Note: you may need to restart the kernel to use updated packages.\n"
     ]
    }
   ],
   "source": [
    "pip show pyspark"
   ]
  },
  {
   "cell_type": "code",
   "execution_count": 7,
   "id": "b9de22b2-8337-4e55-b7a1-ffc162e2e149",
   "metadata": {},
   "outputs": [
    {
     "data": {
      "text/plain": [
       "'/usr/local/spark'"
      ]
     },
     "execution_count": 7,
     "metadata": {},
     "output_type": "execute_result"
    }
   ],
   "source": [
    "#SPARK_HOME\n",
    "import os\n",
    "os.environ.get('SPARK_HOME')"
   ]
  },
  {
   "cell_type": "code",
   "execution_count": 8,
   "id": "f2d92279-6ad6-444c-aa1e-c390d7fed262",
   "metadata": {},
   "outputs": [],
   "source": [
    "#JAVA_HOME\n",
    "os.environ.get('JAVA_HOME')\n"
   ]
  },
  {
   "cell_type": "code",
   "execution_count": 9,
   "id": "ed475467-d0d8-4964-bd78-85a77e9cd3bc",
   "metadata": {},
   "outputs": [
    {
     "data": {
      "text/plain": [
       "'/usr/local/spark/python/lib/py4j-0.10.9.7-src.zip:/usr/local/spark/python:'"
      ]
     },
     "execution_count": 9,
     "metadata": {},
     "output_type": "execute_result"
    }
   ],
   "source": [
    "#PYTHONPATH\n",
    "os.environ.get('PYTHONPATH')"
   ]
  },
  {
   "cell_type": "code",
   "execution_count": 10,
   "id": "561da725-a589-4f27-b6c8-b37a6ac393eb",
   "metadata": {},
   "outputs": [],
   "source": [
    "import pyspark"
   ]
  },
  {
   "cell_type": "code",
   "execution_count": 11,
   "id": "f3da74cc-6350-471d-b83c-bc4a747dfddf",
   "metadata": {},
   "outputs": [],
   "source": [
    "from pyspark.sql import SparkSession\n",
    "spark = SparkSession.builder.appName('pyspark example1').getOrCreate() #chaining\n",
    "#SparkContext.SparkSession"
   ]
  },
  {
   "cell_type": "code",
   "execution_count": 12,
   "id": "4d0beb37-f6f8-415d-8752-818745d52565",
   "metadata": {},
   "outputs": [
    {
     "data": {
      "text/html": [
       "\n",
       "            <div>\n",
       "                <p><b>SparkSession - in-memory</b></p>\n",
       "                \n",
       "        <div>\n",
       "            <p><b>SparkContext</b></p>\n",
       "\n",
       "            <p><a href=\"http://d7f0347bc76a:4041\">Spark UI</a></p>\n",
       "\n",
       "            <dl>\n",
       "              <dt>Version</dt>\n",
       "                <dd><code>v3.5.0</code></dd>\n",
       "              <dt>Master</dt>\n",
       "                <dd><code>local[*]</code></dd>\n",
       "              <dt>AppName</dt>\n",
       "                <dd><code>pyspark example1</code></dd>\n",
       "            </dl>\n",
       "        </div>\n",
       "        \n",
       "            </div>\n",
       "        "
      ],
      "text/plain": [
       "<pyspark.sql.session.SparkSession at 0x7fdef47a3350>"
      ]
     },
     "execution_count": 12,
     "metadata": {},
     "output_type": "execute_result"
    }
   ],
   "source": [
    "spark"
   ]
  },
  {
   "cell_type": "code",
   "execution_count": 13,
   "id": "ffbaea65-4398-4c13-b488-99167d58c570",
   "metadata": {},
   "outputs": [],
   "source": [
    "spark.stop()"
   ]
  },
  {
   "cell_type": "code",
   "execution_count": 14,
   "id": "53483b83-c1b2-4d37-8ca7-12282f09cbfa",
   "metadata": {},
   "outputs": [],
   "source": [
    "spark = SparkSession.builder.appName('pyspark example1').getOrCreate() #chaining"
   ]
  },
  {
   "cell_type": "code",
   "execution_count": 15,
   "id": "228055ae-ea0e-41ed-a606-7fe1a664623d",
   "metadata": {
    "scrolled": true
   },
   "outputs": [
    {
     "data": {
      "text/html": [
       "\n",
       "            <div>\n",
       "                <p><b>SparkSession - in-memory</b></p>\n",
       "                \n",
       "        <div>\n",
       "            <p><b>SparkContext</b></p>\n",
       "\n",
       "            <p><a href=\"http://d7f0347bc76a:4040\">Spark UI</a></p>\n",
       "\n",
       "            <dl>\n",
       "              <dt>Version</dt>\n",
       "                <dd><code>v3.5.0</code></dd>\n",
       "              <dt>Master</dt>\n",
       "                <dd><code>local[*]</code></dd>\n",
       "              <dt>AppName</dt>\n",
       "                <dd><code>pyspark example1</code></dd>\n",
       "            </dl>\n",
       "        </div>\n",
       "        \n",
       "            </div>\n",
       "        "
      ],
      "text/plain": [
       "<pyspark.sql.session.SparkSession at 0x7fdef47c9910>"
      ]
     },
     "execution_count": 15,
     "metadata": {},
     "output_type": "execute_result"
    }
   ],
   "source": [
    "spark"
   ]
  },
  {
   "cell_type": "code",
   "execution_count": 18,
   "id": "4a074e67-8caf-495e-a7b9-c005b4e94b6a",
   "metadata": {},
   "outputs": [
    {
     "data": {
      "text/plain": [
       "list"
      ]
     },
     "execution_count": 18,
     "metadata": {},
     "output_type": "execute_result"
    }
   ],
   "source": [
    "data = [('Alice',1), ('Bob', 2), ('Charlie',3) ]\n",
    "type(data)"
   ]
  },
  {
   "cell_type": "code",
   "execution_count": 22,
   "id": "e1c16ce4-da04-4dc4-b684-ffdabe7cc8b0",
   "metadata": {},
   "outputs": [
    {
     "data": {
      "text/plain": [
       "Column<'Value[1]'>"
      ]
     },
     "execution_count": 22,
     "metadata": {},
     "output_type": "execute_result"
    }
   ],
   "source": [
    "#DataFrame 객체(분산객체)를 생성 <> 판다스의 데이터프레임이 아님.\n",
    "data1 = spark.createDataFrame( data, ['Name','Value'])\n",
    "data1[1][1]"
   ]
  },
  {
   "cell_type": "code",
   "execution_count": 23,
   "id": "20da2ea1-8364-4a51-8879-7a56e0285c7a",
   "metadata": {},
   "outputs": [
    {
     "name": "stdout",
     "output_type": "stream",
     "text": [
      "+-------+-----+\n",
      "|   Name|Value|\n",
      "+-------+-----+\n",
      "|  Alice|    1|\n",
      "|    Bob|    2|\n",
      "|Charlie|    3|\n",
      "+-------+-----+\n",
      "\n"
     ]
    }
   ],
   "source": [
    "data1.show()"
   ]
  },
  {
   "cell_type": "code",
   "execution_count": 37,
   "id": "6bc828b9-4811-45dd-8127-411f75cae029",
   "metadata": {},
   "outputs": [
    {
     "name": "stdout",
     "output_type": "stream",
     "text": [
      "+----+-----+\n",
      "|Name|Value|\n",
      "+----+-----+\n",
      "| Bob|    2|\n",
      "+----+-----+\n",
      "\n"
     ]
    }
   ],
   "source": [
    "data1.filter(data1.Name == 'Bob').show()"
   ]
  },
  {
   "cell_type": "code",
   "execution_count": 38,
   "id": "a2ad27e0-478e-4690-a43f-07df9b91d2a2",
   "metadata": {},
   "outputs": [
    {
     "name": "stdout",
     "output_type": "stream",
     "text": [
      "+-------+-----+\n",
      "|   Name|Value|\n",
      "+-------+-----+\n",
      "|Charlie|    3|\n",
      "+-------+-----+\n",
      "\n"
     ]
    }
   ],
   "source": [
    "data1.filter(data1.Value > 2).show()"
   ]
  },
  {
   "cell_type": "code",
   "execution_count": 39,
   "id": "20ba1ed6-7c40-4082-b86a-5e20f78b63c8",
   "metadata": {},
   "outputs": [],
   "source": [
    "data1.createOrReplaceTempView('people')"
   ]
  },
  {
   "cell_type": "code",
   "execution_count": 41,
   "id": "4d22595f-4e9c-45d5-ab25-e2601fe21238",
   "metadata": {},
   "outputs": [
    {
     "name": "stdout",
     "output_type": "stream",
     "text": [
      "+-------+-----+\n",
      "|   Name|Value|\n",
      "+-------+-----+\n",
      "|  Alice|    1|\n",
      "|    Bob|    2|\n",
      "|Charlie|    3|\n",
      "+-------+-----+\n",
      "\n"
     ]
    }
   ],
   "source": [
    "spark.sql('select * from people').show()"
   ]
  },
  {
   "cell_type": "code",
   "execution_count": 42,
   "id": "2757a055-02c4-4055-a042-a7362d8d2fdc",
   "metadata": {},
   "outputs": [
    {
     "name": "stdout",
     "output_type": "stream",
     "text": [
      "+----+-----+\n",
      "|Name|Value|\n",
      "+----+-----+\n",
      "| Bob|    2|\n",
      "+----+-----+\n",
      "\n"
     ]
    }
   ],
   "source": [
    "spark.sql( 'select * from people where Name=\"Bob\"' ).show()"
   ]
  },
  {
   "cell_type": "code",
   "execution_count": 43,
   "id": "cd2676de-f2f8-4494-865f-a3dd6901fa67",
   "metadata": {},
   "outputs": [
    {
     "name": "stdout",
     "output_type": "stream",
     "text": [
      "+-------+-----+\n",
      "|   Name|Value|\n",
      "+-------+-----+\n",
      "|Charlie|    3|\n",
      "+-------+-----+\n",
      "\n"
     ]
    }
   ],
   "source": [
    "spark.sql( 'select * from people where Value>2' ).show()"
   ]
  },
  {
   "cell_type": "code",
   "execution_count": null,
   "id": "fbbfe729-99b5-4ba9-8337-706f366ff521",
   "metadata": {},
   "outputs": [],
   "source": []
  },
  {
   "cell_type": "code",
   "execution_count": null,
   "id": "275421ef-42b3-4928-b180-0666550842b9",
   "metadata": {},
   "outputs": [],
   "source": []
  },
  {
   "cell_type": "markdown",
   "id": "0d528ace-f292-41e4-84ac-29cf10857127",
   "metadata": {},
   "source": [
    "# RDD 객체 생성"
   ]
  },
  {
   "cell_type": "code",
   "execution_count": 24,
   "id": "980e5217-c5cf-4a47-ae2d-de8b5a5696f2",
   "metadata": {},
   "outputs": [],
   "source": [
    "spark = SparkSession.builder.appName('pyspark example1').getOrCreate()"
   ]
  },
  {
   "cell_type": "code",
   "execution_count": 26,
   "id": "10043df0-62cf-49fa-82d7-41397ca9a448",
   "metadata": {},
   "outputs": [
    {
     "data": {
      "text/plain": [
       "ParallelCollectionRDD[22] at readRDDFromFile at PythonRDD.scala:289"
      ]
     },
     "execution_count": 26,
     "metadata": {},
     "output_type": "execute_result"
    }
   ],
   "source": [
    "rdd = spark.sparkContext.parallelize([1,2,3,4,5]) #직접 생성\n",
    "rdd"
   ]
  },
  {
   "cell_type": "code",
   "execution_count": 27,
   "id": "28ba63b7-e444-4cba-9d9b-a0360507043d",
   "metadata": {},
   "outputs": [
    {
     "data": {
      "text/plain": [
       "DataFrame[Name: string, Value: bigint]"
      ]
     },
     "execution_count": 27,
     "metadata": {},
     "output_type": "execute_result"
    }
   ],
   "source": [
    "data1"
   ]
  },
  {
   "cell_type": "code",
   "execution_count": 29,
   "id": "f8a24637-263a-4e59-ba3a-77ffc7610d88",
   "metadata": {},
   "outputs": [
    {
     "data": {
      "text/plain": [
       "[1, 2, 3, 4, 5]"
      ]
     },
     "execution_count": 29,
     "metadata": {},
     "output_type": "execute_result"
    }
   ],
   "source": [
    "rdd.take(5) #rdd 객체를 출력하는 함수 - n개를 지정"
   ]
  },
  {
   "cell_type": "code",
   "execution_count": 30,
   "id": "b42df330-8717-43ac-9cde-b334a38ecb03",
   "metadata": {},
   "outputs": [
    {
     "data": {
      "text/plain": [
       "PythonRDD[25] at RDD at PythonRDD.scala:53"
      ]
     },
     "execution_count": 30,
     "metadata": {},
     "output_type": "execute_result"
    }
   ],
   "source": [
    "#map 연산 : rdd 값으로 연산\n",
    "squared_rdd = rdd.map(lambda x:x*x)\n",
    "squared_rdd"
   ]
  },
  {
   "cell_type": "code",
   "execution_count": 32,
   "id": "399fbdb3-63eb-4b2e-8ed3-695c489130e5",
   "metadata": {},
   "outputs": [
    {
     "data": {
      "text/plain": [
       "[1, 2, 3]"
      ]
     },
     "execution_count": 32,
     "metadata": {},
     "output_type": "execute_result"
    }
   ],
   "source": [
    "rdd.take(3)"
   ]
  },
  {
   "cell_type": "code",
   "execution_count": 31,
   "id": "b8ef4623-9b7d-47df-a49d-88806c532156",
   "metadata": {},
   "outputs": [
    {
     "data": {
      "text/plain": [
       "[1, 4, 9]"
      ]
     },
     "execution_count": 31,
     "metadata": {},
     "output_type": "execute_result"
    }
   ],
   "source": [
    "squared_rdd.take(3)"
   ]
  },
  {
   "cell_type": "code",
   "execution_count": 33,
   "id": "6acd6e5a-a20e-4842-8869-a839815f3b31",
   "metadata": {},
   "outputs": [
    {
     "data": {
      "text/plain": [
       "[1, 4, 9, 16, 25]"
      ]
     },
     "execution_count": 33,
     "metadata": {},
     "output_type": "execute_result"
    }
   ],
   "source": [
    "squared_rdd.collect()"
   ]
  },
  {
   "cell_type": "code",
   "execution_count": null,
   "id": "96a6217c-4107-4291-ac3b-34930317a480",
   "metadata": {},
   "outputs": [],
   "source": []
  },
  {
   "cell_type": "markdown",
   "id": "41de9a20-d890-4279-858f-a18da1d50a82",
   "metadata": {},
   "source": [
    "# MLlib"
   ]
  },
  {
   "cell_type": "code",
   "execution_count": 44,
   "id": "714eaa58-b1a4-42b4-921c-2f04970cd91c",
   "metadata": {},
   "outputs": [],
   "source": [
    "from pyspark.ml.regression import LinearRegression"
   ]
  },
  {
   "cell_type": "code",
   "execution_count": 45,
   "id": "c0473059-4b14-4b82-84de-5f89632e842e",
   "metadata": {},
   "outputs": [],
   "source": [
    "import numpy as np"
   ]
  },
  {
   "cell_type": "code",
   "execution_count": 46,
   "id": "3190c5a6-c740-49ce-b1cf-4b333946c72e",
   "metadata": {},
   "outputs": [],
   "source": [
    "from pyspark.ml.feature import VectorAssembler"
   ]
  },
  {
   "cell_type": "code",
   "execution_count": 48,
   "id": "7bb53287-3692-47fd-9103-9c347167d104",
   "metadata": {},
   "outputs": [
    {
     "data": {
      "text/plain": [
       "DataFrame[Name: string, Age: bigint]"
      ]
     },
     "execution_count": 48,
     "metadata": {},
     "output_type": "execute_result"
    }
   ],
   "source": [
    "data_age = [('Alice',25), ('Bob', 30), ('Charlie',33) ]\n",
    "data2 = spark.createDataFrame( data_age, ['Name','Age'])\n",
    "data2"
   ]
  },
  {
   "cell_type": "code",
   "execution_count": 49,
   "id": "8547f17b-728b-4981-b252-4722dd4394d8",
   "metadata": {},
   "outputs": [
    {
     "data": {
      "text/plain": [
       "DataFrame[Name: string, Age: bigint, features: vector]"
      ]
     },
     "execution_count": 49,
     "metadata": {},
     "output_type": "execute_result"
    }
   ],
   "source": [
    "assembler = VectorAssembler(inputCols = ['Age'], outputCol='features')\n",
    "vector_df = assembler.transform(data2)\n",
    "vector_df"
   ]
  },
  {
   "cell_type": "code",
   "execution_count": 51,
   "id": "ebbfa227-df61-4c0e-b9df-dafbbdf43925",
   "metadata": {},
   "outputs": [],
   "source": [
    "lr = LinearRegression(featuresCol='features', labelCol='Age')\n",
    "model = lr.fit(vector_df)"
   ]
  },
  {
   "cell_type": "code",
   "execution_count": 52,
   "id": "d0f4dd8f-f303-4cbe-a53a-4dbcdc9e16f0",
   "metadata": {},
   "outputs": [
    {
     "data": {
      "text/plain": [
       "DataFrame[Name: string, Age: bigint, features: vector, prediction: double]"
      ]
     },
     "execution_count": 52,
     "metadata": {},
     "output_type": "execute_result"
    }
   ],
   "source": [
    "pred = model.transform(vector_df)\n",
    "pred"
   ]
  },
  {
   "cell_type": "code",
   "execution_count": 53,
   "id": "02e15845-cf6c-4c20-b4c9-784a4f99b744",
   "metadata": {},
   "outputs": [
    {
     "name": "stdout",
     "output_type": "stream",
     "text": [
      "+-------+---+--------+-----------------+\n",
      "|   Name|Age|features|       prediction|\n",
      "+-------+---+--------+-----------------+\n",
      "|  Alice| 25|  [25.0]|24.99999999999993|\n",
      "|    Bob| 30|  [30.0]|30.00000000000001|\n",
      "|Charlie| 33|  [33.0]|33.00000000000006|\n",
      "+-------+---+--------+-----------------+\n",
      "\n"
     ]
    }
   ],
   "source": [
    "pred.show()"
   ]
  },
  {
   "cell_type": "code",
   "execution_count": 55,
   "id": "474771d8-da6c-4a7f-ae85-b074e9504a58",
   "metadata": {},
   "outputs": [],
   "source": [
    "spark.stop()"
   ]
  },
  {
   "cell_type": "code",
   "execution_count": null,
   "id": "6e8ed339-78c2-4224-8919-bc43b2860f6b",
   "metadata": {},
   "outputs": [],
   "source": []
  },
  {
   "cell_type": "markdown",
   "id": "d7ec8f7c-4c9d-4d45-af8b-4abfcee7b051",
   "metadata": {},
   "source": [
    "# Streaming"
   ]
  },
  {
   "cell_type": "code",
   "execution_count": null,
   "id": "2896cae2-490c-47d7-9fb4-adca3340be4d",
   "metadata": {},
   "outputs": [],
   "source": []
  },
  {
   "cell_type": "code",
   "execution_count": 54,
   "id": "08d65e8a-fcff-418c-aaba-e792c400035e",
   "metadata": {},
   "outputs": [],
   "source": [
    "from pyspark.sql.functions import explode\n",
    "from pyspark.sql.functions import split"
   ]
  },
  {
   "cell_type": "code",
   "execution_count": 56,
   "id": "54ada10f-09a4-422f-b76c-9b838c7e9aff",
   "metadata": {},
   "outputs": [],
   "source": [
    "spark = SparkSession.builder.appName('pyspark example1').getOrCreate() #chaining"
   ]
  },
  {
   "cell_type": "code",
   "execution_count": null,
   "id": "6ef2e25c-25c5-4e4c-ac42-e4a31d028774",
   "metadata": {},
   "outputs": [],
   "source": [
    "lines = spark.readStream.format('socket')\\\n",
    "            .option('host', 'localhost')\\\n",
    "            .option('port',9999)\\\n",
    "            .load()  #STREAMMING DATA"
   ]
  },
  {
   "cell_type": "code",
   "execution_count": null,
   "id": "3996f3dc-2dec-42e0-9ff4-12db465fc8f4",
   "metadata": {},
   "outputs": [],
   "source": [
    "aaaa bbbb cccc hello"
   ]
  },
  {
   "cell_type": "code",
   "execution_count": null,
   "id": "08cbc385-7ba6-4f22-bd70-430d9b8f3589",
   "metadata": {},
   "outputs": [],
   "source": [
    "words = lines.select(explode(split(lines.value, ' ' )).alias('word')"
   ]
  },
  {
   "cell_type": "code",
   "execution_count": 57,
   "id": "ee7670ee-09df-44d0-be57-c90f242e8a75",
   "metadata": {},
   "outputs": [],
   "source": [
    "spark.stop()"
   ]
  }
 ],
 "metadata": {
  "kernelspec": {
   "display_name": "Python 3 (ipykernel)",
   "language": "python",
   "name": "python3"
  },
  "language_info": {
   "codemirror_mode": {
    "name": "ipython",
    "version": 3
   },
   "file_extension": ".py",
   "mimetype": "text/x-python",
   "name": "python",
   "nbconvert_exporter": "python",
   "pygments_lexer": "ipython3",
   "version": "3.11.6"
  }
 },
 "nbformat": 4,
 "nbformat_minor": 5
}
