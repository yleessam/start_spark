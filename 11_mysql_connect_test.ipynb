{
 "cells": [
  {
   "cell_type": "code",
   "execution_count": 1,
   "id": "0f5e8d95-1111-48a6-8c51-23f05626a173",
   "metadata": {},
   "outputs": [
    {
     "data": {
      "text/html": [
       "\n",
       "            <div>\n",
       "                <p><b>SparkSession - in-memory</b></p>\n",
       "                \n",
       "        <div>\n",
       "            <p><b>SparkContext</b></p>\n",
       "\n",
       "            <p><a href=\"http://b11ec62fb456:4040\">Spark UI</a></p>\n",
       "\n",
       "            <dl>\n",
       "              <dt>Version</dt>\n",
       "                <dd><code>v3.5.0</code></dd>\n",
       "              <dt>Master</dt>\n",
       "                <dd><code>local</code></dd>\n",
       "              <dt>AppName</dt>\n",
       "                <dd><code>spark-sql</code></dd>\n",
       "            </dl>\n",
       "        </div>\n",
       "        \n",
       "            </div>\n",
       "        "
      ],
      "text/plain": [
       "<pyspark.sql.session.SparkSession at 0x7f41855b7290>"
      ]
     },
     "execution_count": 1,
     "metadata": {},
     "output_type": "execute_result"
    }
   ],
   "source": [
    "from pyspark.sql import SparkSession\n",
    "spark = SparkSession.builder.master(\"local\").appName(\"spark-sql\").getOrCreate()\n",
    "spark"
   ]
  },
  {
   "cell_type": "code",
   "execution_count": null,
   "id": "7e5374aa-5dbe-44dc-bb8a-5cc5675a90d4",
   "metadata": {},
   "outputs": [],
   "source": [
    "외부 네트워크로 접속 : 3307"
   ]
  },
  {
   "cell_type": "code",
   "execution_count": 7,
   "id": "5bf2315c-029b-4014-86bc-f6189a631ee1",
   "metadata": {},
   "outputs": [
    {
     "name": "stdout",
     "output_type": "stream",
     "text": [
      "+---+----+----------+\n",
      "| id|name|created_at|\n",
      "+---+----+----------+\n",
      "+---+----+----------+\n",
      "\n"
     ]
    }
   ],
   "source": [
    "df = spark.read.format(\"jdbc\").options(\n",
    "    url=\"jdbc:mysql://192.168.47.132:3307/testdb\",  # VM IP 주소 사용\n",
    "    driver=\"com.mysql.cj.jdbc.Driver\",\n",
    "    dbtable=\"test_table\",\n",
    "    user=\"root\",\n",
    "    password=\"1234\"\n",
    ").load()\n",
    "\n",
    "df.show()\n"
   ]
  },
  {
   "cell_type": "code",
   "execution_count": null,
   "id": "527879c1-869f-4cdf-9c2e-c85beeb2b437",
   "metadata": {},
   "outputs": [],
   "source": [
    "# 내부 네트워크로 접근하므로 3306으로 연결"
   ]
  },
  {
   "cell_type": "code",
   "execution_count": 10,
   "id": "34041a1e-4101-4c13-958e-430aa0a71714",
   "metadata": {},
   "outputs": [
    {
     "name": "stdout",
     "output_type": "stream",
     "text": [
      "+---+----+----------+\n",
      "| id|name|created_at|\n",
      "+---+----+----------+\n",
      "+---+----+----------+\n",
      "\n"
     ]
    }
   ],
   "source": [
    "df = spark.read.format(\"jdbc\").options(\n",
    "    url=\"jdbc:mysql://mysql:3306/testdb\",   # \"mysql\"은 docker-compose의 서비스 이름\n",
    "    driver=\"com.mysql.cj.jdbc.Driver\",\n",
    "    dbtable=\"test_table\",\n",
    "    user=\"root\",\n",
    "    password=\"1234\"\n",
    ").load()\n",
    "\n",
    "df.show()\n"
   ]
  },
  {
   "cell_type": "code",
   "execution_count": 11,
   "id": "501ed417-7e16-4b07-a217-a8cbd51af049",
   "metadata": {},
   "outputs": [
    {
     "name": "stdout",
     "output_type": "stream",
     "text": [
      "+---+------+----------------+\n",
      "| id|  name|           email|\n",
      "+---+------+----------------+\n",
      "|  1|홍길동|hong@example.com|\n",
      "|  2|김철수| kim@example.com|\n",
      "+---+------+----------------+\n",
      "\n"
     ]
    }
   ],
   "source": [
    "df = spark.read.format(\"jdbc\").options(\n",
    "    url=\"jdbc:mysql://mysql:3306/my_db\",   # \"mysql\"은 docker-compose의 서비스 이름\n",
    "    driver=\"com.mysql.cj.jdbc.Driver\",\n",
    "    dbtable=\"users\",\n",
    "    user=\"root\",\n",
    "    password=\"1234\"\n",
    ").load()\n",
    "\n",
    "df.show()\n"
   ]
  },
  {
   "cell_type": "code",
   "execution_count": 18,
   "id": "b3a040e7-10dd-42a2-be8f-e3506182124e",
   "metadata": {},
   "outputs": [
    {
     "name": "stdout",
     "output_type": "stream",
     "text": [
      "+----------+\n",
      "|TABLE_NAME|\n",
      "+----------+\n",
      "|      DEPT|\n",
      "|       EMP|\n",
      "|  salgrade|\n",
      "|     users|\n",
      "+----------+\n",
      "\n"
     ]
    }
   ],
   "source": [
    "df = spark.read.format(\"jdbc\").options(\n",
    "    url=\"jdbc:mysql://mysql:3306/my_db\",\n",
    "    driver=\"com.mysql.cj.jdbc.Driver\",\n",
    "    query=\"\"\"\n",
    "        SELECT table_name \n",
    "        FROM information_schema.tables \n",
    "        WHERE table_schema = 'my_db'\n",
    "    \"\"\",\n",
    "    user=\"root\",\n",
    "    password=\"1234\"\n",
    ").load()\n",
    "\n",
    "df.show()\n"
   ]
  },
  {
   "cell_type": "code",
   "execution_count": null,
   "id": "3c71d430-00dd-40b6-8275-ca8fa1308853",
   "metadata": {},
   "outputs": [],
   "source": [
    "옵션 딕셔너리로 재사용"
   ]
  },
  {
   "cell_type": "code",
   "execution_count": 21,
   "id": "25d1c3d0-1f33-457b-a027-186e27759638",
   "metadata": {},
   "outputs": [
    {
     "name": "stdout",
     "output_type": "stream",
     "text": [
      "+-----+------+---------+----+----------+-------+-------+------+\n",
      "|EMPNO| ENAME|      JOB| MGR|  HIREDATE|    SAL|   COMM|DEPTNO|\n",
      "+-----+------+---------+----+----------+-------+-------+------+\n",
      "| 7369| SMITH|    CLERK|7902|1980-12-17| 800.00|   NULL|    20|\n",
      "| 7499| ALLEN| SALESMAN|7698|1981-02-20|1600.00| 300.00|    30|\n",
      "| 7521|  WARD| SALESMAN|7698|1981-02-22|1250.00| 500.00|    30|\n",
      "| 7566| JONES|  MANAGER|7839|1981-04-02|2975.00|   NULL|    20|\n",
      "| 7654|MARTIN| SALESMAN|7698|1981-09-28|1250.00|1400.00|    30|\n",
      "| 7698| BLAKE|  MANAGER|7839|1981-05-01|2850.00|   NULL|    30|\n",
      "| 7782| CLARK|  MANAGER|7839|1981-06-09|2450.00|   NULL|    10|\n",
      "| 7788| SCOTT|  ANALYST|7566|1982-12-09|3000.00|   NULL|    20|\n",
      "| 7839|  KING|PRESIDENT|NULL|1981-11-17|5000.00|   NULL|    10|\n",
      "| 7844|TURNER| SALESMAN|7698|1981-09-08|1500.00|   NULL|    30|\n",
      "| 7876| ADAMS|    CLERK|7788|1983-01-12|1100.00|   NULL|    20|\n",
      "| 7900| JAMES|    CLERK|7698|1981-12-03| 950.00|   NULL|    30|\n",
      "| 7902|  FORD|  ANALYST|7566|1981-12-03|3000.00|   NULL|    20|\n",
      "| 7934|MILLER|    CLERK|7782|1982-01-23|1300.00|   NULL|    10|\n",
      "+-----+------+---------+----+----------+-------+-------+------+\n",
      "\n"
     ]
    }
   ],
   "source": [
    "mysql_options = {\n",
    "    \"url\": \"jdbc:mysql://mysql:3306/my_db\",\n",
    "    \"driver\": \"com.mysql.cj.jdbc.Driver\",\n",
    "    \"user\": \"root\",\n",
    "    \"password\": \"1234\"\n",
    "}\n",
    "\n",
    "df = spark.read.format(\"jdbc\").options(**mysql_options, dbtable=\"EMP\").load()\n",
    "df.show()\n"
   ]
  },
  {
   "cell_type": "code",
   "execution_count": 23,
   "id": "f09b2813-7fc7-492c-846d-9c4439fbdd10",
   "metadata": {},
   "outputs": [
    {
     "name": "stdout",
     "output_type": "stream",
     "text": [
      "+-----+-----+-----+\n",
      "|grade|losal|hisal|\n",
      "+-----+-----+-----+\n",
      "|    1|  700| 1200|\n",
      "|    2| 1201| 1400|\n",
      "|    3| 1401| 2000|\n",
      "|    4| 2001| 3000|\n",
      "|    5| 3001| 9999|\n",
      "+-----+-----+-----+\n",
      "\n"
     ]
    }
   ],
   "source": [
    "df2 = spark.read.format(\"jdbc\").options(**mysql_options, dbtable=\"salgrade\").load()\n",
    "df2.show()"
   ]
  },
  {
   "cell_type": "code",
   "execution_count": 24,
   "id": "9452813d-43fb-44be-9173-0c6e83b1e84f",
   "metadata": {},
   "outputs": [],
   "source": [
    "spark.stop()"
   ]
  }
 ],
 "metadata": {
  "kernelspec": {
   "display_name": "Python 3 (ipykernel)",
   "language": "python",
   "name": "python3"
  },
  "language_info": {
   "codemirror_mode": {
    "name": "ipython",
    "version": 3
   },
   "file_extension": ".py",
   "mimetype": "text/x-python",
   "name": "python",
   "nbconvert_exporter": "python",
   "pygments_lexer": "ipython3",
   "version": "3.11.6"
  }
 },
 "nbformat": 4,
 "nbformat_minor": 5
}
